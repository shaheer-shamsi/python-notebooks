{
  "cells": [
    {
      "cell_type": "markdown",
      "metadata": {
        "id": "ED8bWeOXaWDG"
      },
      "source": [
        "Python supports object-oriented programming (OOP) principles, which allow you to define classes and create objects that encapsulate data and behavior. OOP provides a way to organize code into reusable structures, making it easier to manage and maintain complex programs. In Python, you can define classes, create instances (objects) of those classes, and interact with them through methods and attributes. Here's a basic overview of OOP concepts in Python:\n",
        "\n",
        "**``Classes and Objects:``**\n",
        "- A class is a blueprint for creating objects. It defines the attributes (data) and methods (behavior) that the objects will have. An object (or instance) is an individual occurrence of a class. You can create multiple objects from the same class, each with its own unique data.\n",
        "\n",
        "**``Attributes``**:\n",
        "- Attributes are variables associated with a class or object. They represent the state or data of the object. Attributes can be either instance attributes (specific to each object) or class attributes (shared among all objects of the class).\n",
        "\n",
        "**``Methods:``**\n",
        "- Methods are functions defined within a class. They represent the behavior or actions that objects of the class can perform. Instance methods operate on individual objects and can access and modify their attributes. Class methods are defined with the ``@classmethod`` decorator and can access and modify class-level attributes. Static methods are defined with the ``@staticmethod`` decorator and don't have access to instance or class attributes. They are typically utility functions.\n",
        "\n",
        "**``Encapsulation:``**\n",
        "- Encapsulation is the principle of bundling data and methods together within a class, hiding the internal implementation details from the outside world. It helps in achieving data abstraction, data protection, and code organization.\n",
        "\n",
        "**``Inheritance:``**\n",
        "- Inheritance allows creating a new class (derived or child class) from an existing class (base or parent class). The derived class inherits the attributes and methods of the base class, allowing code reuse and extension. In Python, a class can inherit from multiple base classes (multiple inheritance).\n",
        "\n",
        "**``Polymorphism:``**\n",
        "- Polymorphism refers to the ability of objects of different classes to respond to the same method call in different ways. It allows you to write code that can work with objects of different classes interchangeably, as long as they support a common interface."
      ]
    },
    {
      "cell_type": "markdown",
      "metadata": {
        "id": "kNLAwVxQaWDK"
      },
      "source": [
        "## Creating a python class and it's objects"
      ]
    },
    {
      "cell_type": "code",
      "execution_count": null,
      "metadata": {
        "id": "fbUNSL37aWDK",
        "outputId": "f3211e35-f0aa-4453-e268-476e19828667"
      },
      "outputs": [
        {
          "name": "stdout",
          "output_type": "stream",
          "text": [
            "Buddy\n",
            "Max says woof!\n"
          ]
        }
      ],
      "source": [
        "class Dog:\n",
        "    def __init__(self, name):\n",
        "        self.name = name\n",
        "\n",
        "    def bark(self):\n",
        "        print(f\"{self.name} says woof!\")\n",
        "\n",
        "# Create objects of the Dog class\n",
        "dog1 = Dog(\"Buddy\")\n",
        "dog2 = Dog(\"Max\")\n",
        "\n",
        "# Access object attributes and call methods\n",
        "print(dog1.name)    # Output: Buddy\n",
        "dog2.bark()         # Output: Max says woof!"
      ]
    },
    {
      "cell_type": "markdown",
      "metadata": {
        "id": "lJvdyyChaWDM"
      },
      "source": [
        "The code defines a **``Dog class``** with an **`` __init__``** method and a bark method.\n",
        "- The **``__init__``** method initializes the name attribute of the dog.\n",
        "- The **``bark``** method prints the dog's name followed by ``\"says woof!\"``\n",
        "- Objects of the **``Dog class``** are created and their **``attributes``** are accessed using dot notation.\n",
        "- Methods are called on the objects to perform specific actions."
      ]
    },
    {
      "cell_type": "markdown",
      "metadata": {
        "id": "kpLZ_SRPaWDN"
      },
      "source": [
        "## Attributes(Instance and Class)"
      ]
    },
    {
      "cell_type": "code",
      "execution_count": null,
      "metadata": {
        "id": "5TC6eu2PaWDN",
        "outputId": "b1c8bcc7-93bc-44c4-e43b-88df3d72daba",
        "colab": {
          "base_uri": "https://localhost:8080/"
        }
      },
      "outputs": [
        {
          "output_type": "stream",
          "name": "stdout",
          "text": [
            "2\n",
            "5\n",
            "28.27431\n"
          ]
        }
      ],
      "source": [
        "class Circle:\n",
        "    pi = 3.14159  # Class attribute\n",
        "\n",
        "    def __init__(self, radius):\n",
        "        self.radius = radius  # Instance attribute\n",
        "\n",
        "    def calculate_area(self):\n",
        "        return Circle.pi * self.radius**2\n",
        "\n",
        "# Create objects of the Circle class\n",
        "circle1 = Circle(5)\n",
        "circle2 = Circle(3)\n",
        "print(circle2.pi)\n",
        "\n",
        "# Access object attributes\n",
        "print(circle1.radius)       # Output: 5\n",
        "print(circle2.calculate_area())  # Output: 28.27431"
      ]
    },
    {
      "cell_type": "markdown",
      "metadata": {
        "id": "PnY3Ba3MaWDO"
      },
      "source": [
        "- The code defines a **``Circle class``** with a class attribute **``pi``** and an **``__init__``** method to initialize the instance attribute **``radius``**.\n",
        "- The **``calculate_area``** method calculates the area of the circle based on its radius.\n",
        "- Objects of the **``Circle class``** are created and their attributes are accessed using dot notation.\n",
        "- The **``calculate_area``** method is called on one of the objects to calculate the area of the circle."
      ]
    },
    {
      "cell_type": "markdown",
      "metadata": {
        "id": "dKwoTW5vaWDO"
      },
      "source": [
        "## Methods(Class, Instance, Static)"
      ]
    },
    {
      "cell_type": "code",
      "execution_count": null,
      "metadata": {
        "id": "piZ6MrTZaWDP",
        "outputId": "21f2ce37-d4a3-4f52-90f9-70eaaeae809a"
      },
      "outputs": [
        {
          "name": "stdout",
          "output_type": "stream",
          "text": [
            "5\n",
            "20\n",
            "5\n"
          ]
        }
      ],
      "source": [
        "class MathUtils:\n",
        "    @staticmethod\n",
        "    def add(a, b):\n",
        "        return a + b\n",
        "\n",
        "    @classmethod\n",
        "    def multiply(cls, a, b):\n",
        "        return a * b\n",
        "\n",
        "    def subtract(self, a, b):\n",
        "        return a - b\n",
        "\n",
        "# Call methods without creating objects\n",
        "print(MathUtils.add(2, 3))          # Output: 5\n",
        "print(MathUtils.multiply(4, 5))     # Output: 20\n",
        "\n",
        "# Create an object and call an instance method\n",
        "math = MathUtils()\n",
        "print(math.subtract(8, 3))          # Output: 5"
      ]
    },
    {
      "cell_type": "markdown",
      "metadata": {
        "id": "Ll5trokeaWDQ"
      },
      "source": [
        "- The code defines a **``MathUtils``** class with instance, class, and static methods.\n",
        "- The **``add``** method is a **``static method``** that takes two arguments and returns their sum.\n",
        "- The **``multiply``** method is a **``class method``** that takes two arguments and returns their product.\n",
        "- The **``subtract``** method is an instance method that takes two arguments and returns their difference.\n",
        "- The static and class methods are called using the class name, while the instance method is called on an object of the class.\n",
        "\n",
        "<br>\n",
        "\n",
        "In Python, both static methods and class methods are ways to define methods that are associated with a class rather than an instance of the class. However, they serve different purposes and have different behaviors. Here's a breakdown of the differences between static methods and class methods:\n",
        "\n",
        "**`Static Methods:`**\n",
        "\n",
        "- **Definition:** Static methods are defined using the `@staticmethod` decorator before the method definition. They don't take any special first parameter (like self or cls), which means they don't have access to the instance or class attributes.\n",
        "<br>\n",
        "\n",
        "- **Usage:** Static methods are usually used for utility functions that are related to the class but don't depend on class-specific attributes or methods. They are essentially just regular functions placed within a class's namespace.\n",
        "<br>\n",
        "\n",
        "- **Access:** Static methods can be called using the class name (i.e., ClassName.method()), and they can also be called using an instance (i.e., instance.method()). However, they don't have access to instance attributes or class attributes directly.\n",
        "<br>\n",
        "\n",
        "**`Class Methods:`**\n",
        "\n",
        "- **Definition:** Class methods are defined using the `@classmethod` decorator before the method definition. They take a special first parameter commonly named cls, which refers to the class itself. This parameter allows class methods to access and modify class-level attributes.\n",
        "<br>\n",
        "\n",
        "- **Usage:** Class methods are used when you want to work with class-level attributes, perform operations that affect the class as a whole, or create alternative constructors for the class.\n",
        "<br>\n",
        "\n",
        "- **Access:** Class methods can be called using the class name (i.e., ClassName.method()), and they can also be called using an instance (i.e., instance.method()). However, they receive the class as the first parameter (cls) instead of the instance as the first parameter (self).\n",
        "<br>"
      ]
    },
    {
      "cell_type": "markdown",
      "metadata": {
        "id": "YzU1081IaWDQ"
      },
      "source": [
        "## Encapsulation"
      ]
    },
    {
      "cell_type": "code",
      "execution_count": null,
      "metadata": {
        "id": "oMz3_FeuaWDQ",
        "outputId": "6bfd8022-94ec-4fb8-b0d8-2f16ad6ca380",
        "colab": {
          "base_uri": "https://localhost:8080/"
        }
      },
      "outputs": [
        {
          "output_type": "stream",
          "name": "stdout",
          "text": [
            "1000\n",
            "1500\n",
            "Insufficient funds.\n"
          ]
        }
      ],
      "source": [
        "class BankAccount:\n",
        "    def __init__(self, account_number, balance):\n",
        "        self.account_number = account_number\n",
        "        self.__balance = balance   # Private attribute\n",
        "\n",
        "    def deposit(self, amount):\n",
        "        self.__balance += amount\n",
        "\n",
        "    def withdraw(self, amount):\n",
        "        if self.__balance >= amount:\n",
        "            self.__balance -= amount\n",
        "        else:\n",
        "            print(\"Insufficient funds.\")\n",
        "\n",
        "    def get_balance(self):\n",
        "        return self.__balance\n",
        "\n",
        "# Create an object of the BankAccount class\n",
        "account = BankAccount(\"1234567890\", 1000)\n",
        "\n",
        "# Accessing private attribute indirectly using methods\n",
        "print(account.get_balance())   # Output: 1000\n",
        "account.deposit(500)\n",
        "print(account.get_balance())   # Output: 1500\n",
        "account.withdraw(2000)         # Output: Insufficient funds."
      ]
    },
    {
      "cell_type": "markdown",
      "metadata": {
        "id": "79PUKErxaWDQ"
      },
      "source": [
        "- The code defines a BankAccount class with an **`__init__`**  method to initialize the attributes **`account_number`** and **` __balance (private)`**.\n",
        "\n",
        "- The **`deposit`** method allows depositing an amount to the account by increasing the balance.\n",
        "\n",
        "- The **`withdraw`** method allows withdrawing an amount from the account if the balance is sufficient.\n",
        "- The **`get_balance`** method returns the current balance of the account.\n",
        "\n",
        "- An object of the **`BankAccount`** class is created, and the methods are called to deposit, withdraw, and retrieve the balance.\n",
        "- The **private attribute** **`__balance`** is accessed indirectly using the public **`get_balance`** method."
      ]
    },
    {
      "cell_type": "markdown",
      "metadata": {
        "id": "ZnvlJDN4aWDR"
      },
      "source": [
        "## Inheritance"
      ]
    },
    {
      "cell_type": "code",
      "execution_count": null,
      "metadata": {
        "id": "lrZMfHIBaWDR",
        "outputId": "c692b252-cd13-4404-b948-138ec4db9683"
      },
      "outputs": [
        {
          "name": "stdout",
          "output_type": "stream",
          "text": [
            "Generic Animal is eating.\n",
            "Buddy is eating.\n",
            "Buddy says woof!\n"
          ]
        }
      ],
      "source": [
        "class Animal:\n",
        "    def __init__(self, name):\n",
        "        self.name = name\n",
        "\n",
        "    def eat(self):\n",
        "        print(f\"{self.name} is eating.\")\n",
        "\n",
        "class Dog(Animal):\n",
        "    def bark(self):\n",
        "        print(f\"{self.name} says woof!\")\n",
        "\n",
        "# Create objects of the derived class\n",
        "animal = Animal(\"Generic Animal\")\n",
        "animal.eat()   # Output: Generic Animal is eating.\n",
        "\n",
        "dog = Dog(\"Buddy\")\n",
        "dog.eat()      # Output: Buddy is eating.\n",
        "dog.bark()     # Output: Buddy says woof!"
      ]
    },
    {
      "cell_type": "markdown",
      "metadata": {
        "id": "HCxTK7XeaWDR"
      },
      "source": [
        "- The code defines a base **``class Animal``** with an **``__init__``** method and an **``eat``** method.\n",
        "- The derived class **``Dog``** inherits from the **``Animal``** class and adds a **``bark``** method.\n",
        "- Objects of the **Dog class** are created and their **methods** are called.\n",
        "- The **Dog class** inherits the eat method from the base class, and it also has its own **``bark``** method.\n",
        "- The objects can call both the **inherited method (eat)** and the **method specific to the Dog class (bark)**."
      ]
    },
    {
      "cell_type": "markdown",
      "metadata": {
        "id": "VKP4857qaWDR"
      },
      "source": [
        "### Superclass Initialization"
      ]
    },
    {
      "cell_type": "code",
      "execution_count": null,
      "metadata": {
        "scrolled": true,
        "id": "gUpWcgSpaWDR",
        "outputId": "7da16432-7a21-411f-921e-e7fed8201358",
        "colab": {
          "base_uri": "https://localhost:8080/"
        }
      },
      "outputs": [
        {
          "output_type": "stream",
          "name": "stdout",
          "text": [
            "Name: Alice, Age: 30, Employee ID: EMP123\n"
          ]
        }
      ],
      "source": [
        "class Person:\n",
        "    def __init__(self, name, age):\n",
        "        self.name = name\n",
        "        self.age = age\n",
        "\n",
        "class Employee(Person):\n",
        "    def __init__(self, name, age, employee_id):\n",
        "        super().__init__(name, age)\n",
        "        self.employee_id = employee_id\n",
        "\n",
        "    def display(self):\n",
        "        print(f\"Name: {self.name}, Age: {self.age}, Employee ID: {self.employee_id}\")\n",
        "\n",
        "emp = Employee(\"Alice\", 30, \"EMP123\")\n",
        "emp.display()"
      ]
    },
    {
      "cell_type": "markdown",
      "metadata": {
        "id": "0XIG1TZ2aWDS"
      },
      "source": [
        "In this code a **subclass** (Employee) can **`inherit`** attributes and methods from its **superclass** (Person)."
      ]
    },
    {
      "cell_type": "code",
      "execution_count": null,
      "metadata": {
        "id": "v9pn_NYMaWDS",
        "outputId": "82e64057-95b5-4eb1-ed2a-444892575371"
      },
      "outputs": [
        {
          "name": "stdout",
          "output_type": "stream",
          "text": [
            "Person Information:\n",
            "Name: John, Age: 25\n",
            "\n",
            "Employee Information:\n",
            "Name: John, Age: 25, Employee ID: EMP456\n"
          ]
        }
      ],
      "source": [
        "# Create a Person instance\n",
        "person = Person(\"John\", 25)\n",
        "print(\"Person Information:\")\n",
        "print(f\"Name: {person.name}, Age: {person.age}\")\n",
        "\n",
        "# Convert the Person instance to an Employee\n",
        "employee = Employee(person.name, person.age, \"EMP456\")\n",
        "print(\"\\nEmployee Information:\")\n",
        "employee.display()"
      ]
    },
    {
      "cell_type": "markdown",
      "metadata": {
        "id": "FORp2rHLaWDS"
      },
      "source": [
        "### Multilevel Inheritance"
      ]
    },
    {
      "cell_type": "code",
      "execution_count": null,
      "metadata": {
        "id": "o1t6dxVZaWDS",
        "outputId": "d8b42bb9-78e6-4d71-b676-6fa9cf4321cf"
      },
      "outputs": [
        {
          "name": "stdout",
          "output_type": "stream",
          "text": [
            "Animal sound\n",
            "Mammal sound\n",
            "Woof!\n",
            "Buddy is fetching the ball\n",
            "Generic Mammal has Brown fur\n",
            "Buddy is a Golden Retriever with Golden fur\n"
          ]
        },
        {
          "data": {
            "text/plain": [
              "True"
            ]
          },
          "execution_count": 7,
          "metadata": {},
          "output_type": "execute_result"
        }
      ],
      "source": [
        "class Animal:\n",
        "    def __init__(self, name):\n",
        "        self.name = name\n",
        "\n",
        "    def speak(self):\n",
        "        return \"Animal sound\"\n",
        "\n",
        "    def is_animal(self):\n",
        "        return True\n",
        "\n",
        "class Mammal(Animal):\n",
        "    def __init__(self, name, fur_color):\n",
        "        super().__init__(name)\n",
        "        self.fur_color = fur_color\n",
        "\n",
        "    def speak(self):\n",
        "        return \"Mammal sound\"\n",
        "\n",
        "class Dog(Mammal):\n",
        "    def __init__(self, name, fur_color, breed):\n",
        "        super().__init__(name, fur_color)\n",
        "        self.breed = breed\n",
        "\n",
        "    def speak(self):\n",
        "        return \"Woof!\"\n",
        "\n",
        "    def fetch(self):\n",
        "        return f\"{self.name} is fetching the ball\"\n",
        "\n",
        "# Creating instances\n",
        "animal = Animal(\"Generic Animal\")\n",
        "mammal = Mammal(\"Generic Mammal\", \"Brown\")\n",
        "dog = Dog(\"Buddy\", \"Golden\", \"Golden Retriever\")\n",
        "\n",
        "# Calling methods\n",
        "print(animal.speak())\n",
        "print(mammal.speak())\n",
        "print(dog.speak())\n",
        "print(dog.fetch())\n",
        "\n",
        "# Accessing properties\n",
        "print(f\"{mammal.name} has {mammal.fur_color} fur\")\n",
        "print(f\"{dog.name} is a {dog.breed} with {dog.fur_color} fur\")\n",
        "\n",
        "dog.is_animal()"
      ]
    },
    {
      "cell_type": "markdown",
      "metadata": {
        "id": "R5DLDnzuaWDS"
      },
      "source": [
        "By using inheritance, you can see how the classes build upon each other and specialize as you go down the hierarchy. Each subclass inherits properties and methods from its superclass, and you can also add new properties and methods to each subclass. This allows for code reuse and a structured way to represent relationships between different types of objects."
      ]
    },
    {
      "cell_type": "markdown",
      "metadata": {
        "id": "8Wm0ctgqaWDS"
      },
      "source": [
        "## Polymorphism\n",
        "Polymorphism allows objects of different classes to respond to the same method call in different ways. It enables code to be written in a generic manner, working with objects of different types as long as they support a common interface.<br>"
      ]
    },
    {
      "cell_type": "code",
      "execution_count": null,
      "metadata": {
        "id": "ZCi85odfaWDT",
        "outputId": "a1690b83-9902-442c-c2b1-328f5a48d0a6",
        "colab": {
          "base_uri": "https://localhost:8080/"
        }
      },
      "outputs": [
        {
          "output_type": "stream",
          "name": "stdout",
          "text": [
            "20\n",
            "28.259999999999998\n"
          ]
        }
      ],
      "source": [
        "class Shape:\n",
        "    def calculate_area(self):\n",
        "        pass\n",
        "\n",
        "class Rectangle(Shape):\n",
        "    def __init__(self, width, height):\n",
        "        self.width = width\n",
        "        self.height = height\n",
        "\n",
        "    def calculate_area(self):\n",
        "        return self.width * self.height\n",
        "\n",
        "class Circle(Shape):\n",
        "    def __init__(self, radius):\n",
        "        self.radius = radius\n",
        "\n",
        "    def calculate_area(self):\n",
        "        return 3.14 * self.radius * self.radius\n",
        "\n",
        "# Create a list of shape objects\n",
        "shapes = [Rectangle(4, 5), Circle(3)]\n",
        "\n",
        "# Call the calculate_area method on different shapes\n",
        "for shape in shapes:\n",
        "    print(shape.calculate_area())"
      ]
    },
    {
      "cell_type": "markdown",
      "metadata": {
        "id": "OdU2mGiJaWDT"
      },
      "source": [
        "- The code defines a base class **``Shape``** with an empty **``calculate_area``** method.\n",
        "- The derived classes **``Rectangle``** and **``Circle``** inherit from the **Shape class** and **override** the **``calculate_area``** method.\n",
        "- Objects of the derived classes are created and stored in a list.\n",
        "- A loop iterates over the shapes in the list and calls the **``calculate_area``** method on each shape.\n",
        "- Polymorphism allows the **``calculate_area``** method to be called on objects of **different types (rectangle and circle)** and the appropriate implementation of the method is invoked based on the actual type of the object."
      ]
    },
    {
      "cell_type": "markdown",
      "metadata": {
        "id": "G6YIYyukaWDT"
      },
      "source": [
        "### Explaining Method Overriding"
      ]
    },
    {
      "cell_type": "markdown",
      "metadata": {
        "id": "T93QDgQzaWDT"
      },
      "source": [
        "**``Method overriding``** is a feature of **object-oriented programming (OOP)** that allows a subclass to provide a different implementation of a method that is already defined in its superclass. In other words, the subclass overrides the behavior of the inherited method from the superclass with its own implementation.\n",
        "\n",
        "When a subclass overrides a method, it provides a specialized implementation that is more specific to its own context while retaining the same method name, return type, and parameters as defined in the superclass. This enables the subclass to customize or extend the behavior of the inherited method to suit its specific needs.\n",
        "\n",
        "**The process of method overriding involves the following key points:**\n",
        "\n",
        "- ``Inheritance:`` Method overriding can only occur in a subclass that inherits from a superclass. The subclass inherits the methods of the superclass, including the method that is to be overridden.\n",
        "\n",
        "- ``Method Signature:`` The method in the subclass must have the same name, return type, and parameter list (in terms of number, order, and type) as the method in the superclass. The method signature serves as the identifier for the overridden method.\n",
        "\n",
        "- ``Override Annotation:`` Although not required, it is a good practice to use the **``@override``** annotation (decorator in Python) when overriding a method. This helps to ensure that the method is indeed being overridden and not accidentally creating a new method.\n",
        "\n",
        "- ``Custom Implementation:`` The subclass provides its own implementation of the method by redefining it. This allows the subclass to modify or extend the behavior of the inherited method to meet its specific requirements.\n",
        "\n",
        "- ``Polymorphic Behavior:`` When an overridden method is called on an instance of the subclass, the overridden version of the method is invoked instead of the superclass's implementation. This allows polymorphic behavior, where different objects of related classes can respond to the same method call in different ways.\n",
        "\n",
        "Method overriding allows for runtime polymorphism and facilitates the principle of \"code reusability\" by providing a way to reuse the interface of the superclass while customizing the behavior in individual subclasses. It enables more flexibility and specialization in class hierarchies and is a powerful tool for designing and organizing object-oriented code."
      ]
    },
    {
      "cell_type": "markdown",
      "metadata": {
        "id": "MOYKcijcaWDT"
      },
      "source": [
        "### Special Methods (Magic Methods):\n",
        "Python provides special methods, also known as magic methods, that allow you to define how objects of a class behave in various situations. They are identified by double underscores before and after the method name."
      ]
    },
    {
      "cell_type": "code",
      "execution_count": null,
      "metadata": {
        "id": "YeFHIqVMaWDT",
        "outputId": "d48b4e3c-2d6a-4fdc-d559-aeb74fee4b8d",
        "colab": {
          "base_uri": "https://localhost:8080/"
        }
      },
      "outputs": [
        {
          "output_type": "stream",
          "name": "stdout",
          "text": [
            "(6, 8)\n"
          ]
        }
      ],
      "source": [
        "class Vector:\n",
        "    def __init__(self, x, y):\n",
        "        self.x = x\n",
        "        self.y = y\n",
        "\n",
        "    def __add__(self, other):\n",
        "        return Vector(self.x + other.x, self.y + other.y)\n",
        "\n",
        "    def __str__(self):\n",
        "        return \"({}, {})\".format(self.x, self.y)\n",
        "\n",
        "v1 = Vector(2, 3)\n",
        "v2 = Vector(4, 5)\n",
        "v3 = v1 + v2\n",
        "print(v3)"
      ]
    },
    {
      "cell_type": "markdown",
      "metadata": {
        "id": "eaY4w1-AaWDU"
      },
      "source": [
        "The code defines a Vector class that represents a **`2-dimensional vector`**. It overrides the **`__add__`** method to enable addition of **`two Vector`** objects, and the **`__str__`** method to provide a **`string`** representation of a Vector object.<br>\n",
        "\n",
        "Let's break down the code and explain each part:"
      ]
    },
    {
      "cell_type": "markdown",
      "metadata": {
        "id": "ImKzf9DfaWDU"
      },
      "source": [
        "\n",
        "```python\n",
        "class Vector:\n",
        "    def __init__(self, x, y):\n",
        "        self.x = x\n",
        "        self.y = y\n",
        "```\n",
        "The Vector class has an **``__init__``** method that initializes the **x** and **y** attributes of a Vector object.\n",
        "\n",
        "```Python\n",
        "    def __add__(self, other):\n",
        "        return Vector(self.x + other.x, self.y + other.y)\n",
        "```\n",
        "\n",
        "The **`__add__`** method is overridden to define the behavior of adding two Vector objects. It takes **`another Vector`** object (other) as an argument and returns a new Vector object whose **x** and **y** values are the sum of the corresponding values from the two vectors.\n",
        "\n",
        "```python\n",
        "    def __str__(self):\n",
        "        return \"({}, {})\".format(self.x, self.y)\n",
        "```\n",
        "\n",
        "The **`__str__`** method is overridden to provide a string representation of a **`Vector`** object. It returns a formatted string that displays the **`x`** and **`y`** values of the **vector**.\n",
        "\n",
        "```python\n",
        "v1 = Vector(2, 3)\n",
        "v2 = Vector(4, 5)\n",
        "v3 = v1 + v2\n",
        "print(v3)\n",
        "```\n",
        "\n",
        "In the main part of the code, **`two Vector`** objects **`v1`** and **`v2`** are created with specific **`x`** and **`y`** values. The **`+`** operator is used to add these vectors together, which triggers the **`__add__`** method. The result of the addition is stored in **`v3`**. Finally, **`v3`** is printed, which calls the **`__str__`** method to display the vector as a string.\n",
        "\n",
        "The output of the code is **`(6, 8)`**, which represents the vector obtained by adding **v1** and **v2**."
      ]
    },
    {
      "cell_type": "code",
      "execution_count": null,
      "metadata": {
        "id": "prbc6Jo2aWDU",
        "outputId": "689b0788-283d-4a93-dee0-2df0a9473ee5",
        "colab": {
          "base_uri": "https://localhost:8080/"
        }
      },
      "outputs": [
        {
          "output_type": "stream",
          "name": "stdout",
          "text": [
            "(6, 8)\n",
            "(4, 5)\n"
          ]
        }
      ],
      "source": [
        "class Vector:\n",
        "    def __init__(self, x, y):\n",
        "        self.x = x\n",
        "        self.y = y\n",
        "\n",
        "    def __add__(self, other):\n",
        "        return Vector(self.x + other.x, self.y + other.y)\n",
        "\n",
        "    def __sub__(self, other):\n",
        "        return Vector(self.x - other.x, self.y - other.y)\n",
        "\n",
        "    def __str__(self):\n",
        "        return \"({}, {})\".format(self.x, self.y)\n",
        "\n",
        "v1 = Vector(2, 3)\n",
        "v2 = Vector(4, 5)\n",
        "v3 = v1 + v2\n",
        "v4 = v3 - v1\n",
        "print(v3)\n",
        "print(v4)"
      ]
    },
    {
      "cell_type": "markdown",
      "metadata": {
        "id": "bxK0HIJ6aWDU"
      },
      "source": [
        "Here **`__sub__`** method is overridden to define the behavior of substracting two Vector objects. It takes **`another Vector`** object (other) as an argument and returns a new Vector object whose **x** and **y** values are the subtraction of the corresponding values from the two vectors."
      ]
    }
  ],
  "metadata": {
    "kernelspec": {
      "display_name": "Python 3 (ipykernel)",
      "language": "python",
      "name": "python3"
    },
    "language_info": {
      "codemirror_mode": {
        "name": "ipython",
        "version": 3
      },
      "file_extension": ".py",
      "mimetype": "text/x-python",
      "name": "python",
      "nbconvert_exporter": "python",
      "pygments_lexer": "ipython3",
      "version": "3.8.16"
    },
    "colab": {
      "provenance": []
    }
  },
  "nbformat": 4,
  "nbformat_minor": 0
}