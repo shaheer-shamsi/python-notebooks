{
  "cells": [
    {
      "cell_type": "markdown",
      "id": "bf329226",
      "metadata": {
        "id": "bf329226"
      },
      "source": [
        "<img src=\"https://www.python.org/static/community_logos/python-logo-master-v3-TM-flattened.png\" alt=\"Python Logo\" width=76% height=58% title=\"Python Logo\">"
      ]
    },
    {
      "cell_type": "markdown",
      "id": "2536c49c",
      "metadata": {
        "id": "2536c49c"
      },
      "source": [
        "# What is Python"
      ]
    },
    {
      "cell_type": "markdown",
      "id": "8750059e",
      "metadata": {
        "id": "8750059e"
      },
      "source": [
        "Python is a high-level, interpreted programming language that was created by Guido van Rossum and first released in 1991. It is known for its simplicity and readability, making it an excellent choice for beginners and experienced programmers alike. Python emphasizes code readability and uses a clean and concise syntax, which allows developers to express concepts in fewer lines of code compared to other programming languages.\n",
        "\n",
        "### Feature:\n",
        "Some key features of Python include:\n",
        "\n",
        "* **Simple and Readable Syntax:** Python's syntax is designed to be straightforward and easy to understand, with an emphasis on code readability. It uses indentation to define code blocks, eliminating the need for explicit braces or keywords.<br>\n",
        "\n",
        "* **Dynamic Typing:** Python uses dynamic typing, which means that variable types are inferred at runtime. Developers don't need to explicitly declare variable types, making code writing and maintenance more flexible and efficient. <br>\n",
        "\n",
        "* **Cross-Platform Compatibility:** Python is available on various platforms, including Windows, macOS, Linux, and Unix. This allows developers to write code once and run it on different operating systems without major modifications.<br>\n",
        "\n",
        "* **Extensive Standard Library:** Python comes with a comprehensive standard library that provides a wide range of modules and functions for common programming tasks. This reduces the need for developers to write code from scratch and allows them to quickly leverage existing functionality.<br>\n",
        "\n",
        "* **Large Community and Ecosystem:** Python has a vibrant and active community of developers, which contributes to the growth of a vast ecosystem of third-party libraries and frameworks. This ecosystem provides additional tools and resources that can significantly enhance the capabilities of Python for specific applications and domains.<br>\n",
        "\n",
        "**Overall, Python's simplicity, readability, and versatility have contributed to its popularity among developers and its wide adoption in various industries and domains.**\n"
      ]
    },
    {
      "cell_type": "markdown",
      "id": "c5f17f3e",
      "metadata": {
        "id": "c5f17f3e"
      },
      "source": [
        "# Where It can be used"
      ]
    },
    {
      "cell_type": "markdown",
      "id": "222e3cdd",
      "metadata": {
        "id": "222e3cdd"
      },
      "source": [
        "* **Web Development:** Python has frameworks like Django and Flask that enable developers to build robust and scalable web applications. <br>\n",
        "\n",
        "* **Data Analysis and Visualization:** Python provides libraries such as NumPy, Pandas, and Matplotlib, which are widely used for data manipulation, analysis, and visualization tasks. <br>\n",
        "\n",
        "* **Machine Learning and Artificial Intelligence:** Python has libraries like TensorFlow, PyTorch, and scikit-learn that make it a popular choice for machine learning and AI applications. <br>\n",
        "\n",
        "* **Scientific Computing:** Python, along with libraries like SciPy and NumPy, is widely used in scientific research and computational modeling. <br>\n",
        "\n",
        "* **Automation and Scripting:** Python's simplicity and ease of use make it suitable for automating repetitive tasks and writing scripts for various purposes. <br>\n",
        "\n",
        "* **Game Development:** Python offers libraries like Pygame that allow developers to create interactive games.<br>\n",
        "\n",
        "* **DevOps and Infrastructure Automation:** Python is often used in DevOps workflows for tasks such as configuration management, infrastructure automation, and deployment scripting. <br>\n",
        "\n",
        "* **Internet of Things (IoT):** Python is commonly used for IoT projects due to its simplicity, versatility, and support for various hardware platforms. <br>\n",
        "\n",
        "* **Data Science:** Python's extensive library ecosystem, including libraries like Pandas, scikit-learn, and seaborn, makes it a preferred language for data science tasks, including data cleaning, exploration, and modeling. <br>\n",
        "\n",
        "* ***Natural Language Processing (NLP):** Python offers libraries such as NLTK and spaCy that are widely used for processing and analyzing human language data.<br>\n",
        "\n",
        "* **Web Scraping:** Python's libraries like BeautifulSoup and Scrapy make it easy to extract data from websites.<br>\n",
        "\n",
        "* **Education:** Python's readability and simplicity make it an ideal language for teaching programming concepts to beginners.<br>"
      ]
    },
    {
      "cell_type": "markdown",
      "id": "fddc0811",
      "metadata": {
        "id": "fddc0811"
      },
      "source": [
        "# Syntax of Python"
      ]
    },
    {
      "cell_type": "markdown",
      "id": "0fe6a417",
      "metadata": {
        "id": "0fe6a417"
      },
      "source": [
        "**Since python is dynamically typed, unlike other languages we don not have to specify a variable type when we create a variable in python; they are dynamically inferred during execution.**<br>"
      ]
    },
    {
      "cell_type": "markdown",
      "id": "f7e47958",
      "metadata": {
        "id": "f7e47958"
      },
      "source": [
        "## Printing Output"
      ]
    },
    {
      "cell_type": "code",
      "execution_count": null,
      "id": "f1fa5a34",
      "metadata": {
        "id": "f1fa5a34",
        "colab": {
          "base_uri": "https://localhost:8080/"
        },
        "outputId": "5f748a78-8b83-4192-e1cf-3e46498c6bc6"
      },
      "outputs": [
        {
          "output_type": "stream",
          "name": "stdout",
          "text": [
            "Hello, World!\n"
          ]
        }
      ],
      "source": [
        "print(\"Hello, World!\")  # Prints the string \"Hello, World!\""
      ]
    },
    {
      "cell_type": "markdown",
      "id": "40defa6c",
      "metadata": {
        "id": "40defa6c"
      },
      "source": [
        "In Python, the **`print()`** function is a built-in function that is used to display **`text`** or other **`objects`** on the standard output device, typically the console or terminal. It allows you to output information to the user or debug your code by printing values of variables, messages, or any other content you want to display."
      ]
    },
    {
      "cell_type": "markdown",
      "id": "96b66f02",
      "metadata": {
        "id": "96b66f02"
      },
      "source": [
        "## Basic Data Types"
      ]
    },
    {
      "cell_type": "markdown",
      "id": "0be1f90e",
      "metadata": {
        "id": "0be1f90e"
      },
      "source": [
        "**Numeric Data Types:**\n",
        "- `Integer (int)`: Represents whole numbers, positive or negative, without any decimal points.\n",
        "- `Float (float)`: Represents decimal numbers. It can also represent numbers in scientific notation."
      ]
    },
    {
      "cell_type": "code",
      "execution_count": null,
      "id": "f16a7f65",
      "metadata": {
        "id": "f16a7f65",
        "outputId": "be54510b-1075-4c3e-b97a-3c8e3aa85f47",
        "colab": {
          "base_uri": "https://localhost:8080/"
        }
      },
      "outputs": [
        {
          "output_type": "stream",
          "name": "stdout",
          "text": [
            "<class 'int'>\n",
            "<class 'float'>\n"
          ]
        }
      ],
      "source": [
        "x = 10         # Integer\n",
        "y = 3.14       # Float\n",
        "# we can access the type of a variable using type() function\n",
        "print(type(x))\n",
        "print(type(y))"
      ]
    },
    {
      "cell_type": "markdown",
      "id": "59b95037",
      "metadata": {
        "id": "59b95037"
      },
      "source": [
        "**Boolean Data Type:**\n",
        "\n",
        "- `Boolean (bool)`: Represents one of two values: True or False. It is useful for logical operations and conditions."
      ]
    },
    {
      "cell_type": "code",
      "execution_count": null,
      "id": "ba2052b8",
      "metadata": {
        "id": "ba2052b8",
        "outputId": "865b0f97-1f42-4043-ed8a-cbb3c6cecac5",
        "colab": {
          "base_uri": "https://localhost:8080/"
        }
      },
      "outputs": [
        {
          "output_type": "stream",
          "name": "stdout",
          "text": [
            "True\n",
            "False\n",
            "<class 'bool'>\n",
            "<class 'bool'>\n"
          ]
        }
      ],
      "source": [
        "is_true = True\n",
        "is_false = False\n",
        "print(is_true)\n",
        "print(is_false)\n",
        "print(type(is_true))\n",
        "print(type(is_false))"
      ]
    },
    {
      "cell_type": "markdown",
      "id": "5da04ce9",
      "metadata": {
        "id": "5da04ce9"
      },
      "source": [
        "**Sring Data Type:**\n",
        "\n",
        "- `String (str)`: Represents a sequence of characters enclosed in single quotes **(')** or double quotes **(\")**. Strings are immutable, meaning they cannot be changed once created."
      ]
    },
    {
      "cell_type": "code",
      "execution_count": null,
      "id": "adbb30d6",
      "metadata": {
        "id": "adbb30d6",
        "outputId": "a5cbd002-19e2-42ca-dfcc-00390ff0a14d",
        "colab": {
          "base_uri": "https://localhost:8080/"
        }
      },
      "outputs": [
        {
          "output_type": "stream",
          "name": "stdout",
          "text": [
            "<class 'str'>\n",
            "<class 'str'>\n"
          ]
        }
      ],
      "source": [
        "name = \"John\"\n",
        "message = 'Hello, world!'\n",
        "print(type(name))\n",
        "print(type(message))"
      ]
    },
    {
      "cell_type": "code",
      "execution_count": null,
      "id": "f1fd8f08",
      "metadata": {
        "id": "f1fd8f08"
      },
      "outputs": [],
      "source": [
        "# Variables can be assigned values of different data types\n",
        "name = \"John\"  # String\n",
        "age = 25  # Integer\n",
        "height = 1.75  # Float\n",
        "is_student = True  # Boolean"
      ]
    },
    {
      "cell_type": "markdown",
      "id": "4fe8f446",
      "metadata": {
        "id": "4fe8f446"
      },
      "source": [
        "**None Type:**\n",
        "\n",
        "- None (None): Represents the absence of a value or a **`null`** value. It is often used to indicate the absence of a return value or uninitialized variables."
      ]
    },
    {
      "cell_type": "code",
      "execution_count": null,
      "id": "4061fc23",
      "metadata": {
        "id": "4061fc23",
        "outputId": "b2339fec-fd73-4c18-a335-be086c30b372",
        "colab": {
          "base_uri": "https://localhost:8080/"
        }
      },
      "outputs": [
        {
          "output_type": "stream",
          "name": "stdout",
          "text": [
            "<class 'NoneType'>\n"
          ]
        }
      ],
      "source": [
        "result = None\n",
        "print(type(result))"
      ]
    },
    {
      "cell_type": "markdown",
      "id": "eccb6fa7",
      "metadata": {
        "id": "eccb6fa7"
      },
      "source": [
        "## Lists\n",
        "\n",
        "You can create a list by enclosing comma-separated values within square brackets **`[]`** or by using the **`list()`** constructor. For example:"
      ]
    },
    {
      "cell_type": "code",
      "execution_count": null,
      "id": "6acfab9f",
      "metadata": {
        "id": "6acfab9f"
      },
      "outputs": [],
      "source": [
        "# Creating a list\n",
        "numbers = [1, 2, 3, 4, 5]\n",
        "\n",
        "# Accessing elements\n",
        "first_element = numbers[0]  # Access the first element (index 0)\n",
        "\n",
        "# Modifying elements\n",
        "numbers[3] = 7  # Change the value of the element at index 2 to 7\n",
        "\n",
        "# List methods\n",
        "numbers.append(6)  # Add an element at the end of the list\n",
        "numbers.remove(3)  # Remove the first occurrence of the element 3\n"
      ]
    },
    {
      "cell_type": "code",
      "execution_count": null,
      "id": "126c2bad",
      "metadata": {
        "id": "126c2bad",
        "outputId": "ca81a6a7-29ca-40c6-ea90-bde322058c2f",
        "colab": {
          "base_uri": "https://localhost:8080/"
        }
      },
      "outputs": [
        {
          "output_type": "stream",
          "name": "stdout",
          "text": [
            "[1, 2, 7, 5, 6]\n"
          ]
        }
      ],
      "source": [
        " print(numbers)"
      ]
    },
    {
      "cell_type": "code",
      "execution_count": null,
      "id": "edb1c786",
      "metadata": {
        "id": "edb1c786",
        "outputId": "366b045a-5b06-44d5-97e6-986eff250735",
        "colab": {
          "base_uri": "https://localhost:8080/"
        }
      },
      "outputs": [
        {
          "output_type": "stream",
          "name": "stdout",
          "text": [
            "5\n",
            "5\n"
          ]
        }
      ],
      "source": [
        "# length of list\n",
        "list_length = len(numbers) #using the len() method\n",
        "\n",
        "print(list_length)\n",
        "\n",
        "# Alternatively you can do this\n",
        "print(len(numbers))"
      ]
    },
    {
      "cell_type": "markdown",
      "id": "86beebed",
      "metadata": {
        "id": "86beebed"
      },
      "source": [
        "## Dictionaries"
      ]
    },
    {
      "cell_type": "code",
      "execution_count": null,
      "id": "3f6a0d3e",
      "metadata": {
        "id": "3f6a0d3e"
      },
      "outputs": [],
      "source": [
        "# Creating a dictionary\n",
        "student = {\n",
        "    \"name\": \"John\", # key=\"name\", value=\"john\"\n",
        "    \"age\": 20, # key=\"age\", value=20\n",
        "    \"grade\": \"A\" # key=\"grade\", value=\"A\"\n",
        "}"
      ]
    },
    {
      "cell_type": "code",
      "execution_count": null,
      "id": "f59d2709",
      "metadata": {
        "id": "f59d2709",
        "outputId": "16304177-a38b-40e4-9d45-698d28682a99",
        "colab": {
          "base_uri": "https://localhost:8080/"
        }
      },
      "outputs": [
        {
          "output_type": "execute_result",
          "data": {
            "text/plain": [
              "{'name': 'John', 'age': 20, 'grade': 'A'}"
            ]
          },
          "metadata": {},
          "execution_count": 63
        }
      ],
      "source": [
        "student"
      ]
    },
    {
      "cell_type": "code",
      "execution_count": null,
      "id": "7e127835",
      "metadata": {
        "id": "7e127835",
        "outputId": "620ffb0e-0af6-4d35-d8a3-fce0cbdd87cb",
        "colab": {
          "base_uri": "https://localhost:8080/"
        }
      },
      "outputs": [
        {
          "output_type": "execute_result",
          "data": {
            "text/plain": [
              "('John', 20)"
            ]
          },
          "metadata": {},
          "execution_count": 65
        }
      ],
      "source": [
        "# Accessing a value using key\n",
        "student[\"name\"], student[\"age\"]"
      ]
    },
    {
      "cell_type": "code",
      "execution_count": null,
      "id": "e595b689",
      "metadata": {
        "id": "e595b689"
      },
      "outputs": [],
      "source": [
        "student[\"age\"] = 21  # Modifying the value of the \"age\" key\n",
        "student[\"city\"] = \"New York\"  # Adding a new key-value pair"
      ]
    },
    {
      "cell_type": "code",
      "execution_count": null,
      "id": "9b22ad3c",
      "metadata": {
        "id": "9b22ad3c",
        "outputId": "df2da22b-9304-4b1c-8560-c83de9caba2f",
        "colab": {
          "base_uri": "https://localhost:8080/"
        }
      },
      "outputs": [
        {
          "output_type": "execute_result",
          "data": {
            "text/plain": [
              "{'name': 'John', 'age': 21, 'grade': 'A', 'city': 'New York'}"
            ]
          },
          "metadata": {},
          "execution_count": 68
        }
      ],
      "source": [
        "student"
      ]
    },
    {
      "cell_type": "code",
      "execution_count": null,
      "id": "7fc3dca5",
      "metadata": {
        "id": "7fc3dca5"
      },
      "outputs": [],
      "source": [
        "del student[\"grade\"]  # Removing the \"grade\" key and its value"
      ]
    },
    {
      "cell_type": "code",
      "execution_count": null,
      "id": "6cb28f1e",
      "metadata": {
        "id": "6cb28f1e",
        "outputId": "b2183d15-bfae-4d64-a06d-f58275bd5bd0",
        "colab": {
          "base_uri": "https://localhost:8080/"
        }
      },
      "outputs": [
        {
          "output_type": "execute_result",
          "data": {
            "text/plain": [
              "{'name': 'John', 'age': 21, 'city': 'New York'}"
            ]
          },
          "metadata": {},
          "execution_count": 16
        }
      ],
      "source": [
        "student"
      ]
    },
    {
      "cell_type": "markdown",
      "id": "e5c342d7",
      "metadata": {
        "id": "e5c342d7"
      },
      "source": [
        "**Dictionaries provide several methods and operations to work with their elements. Some common methods include keys(), values(), and items()**"
      ]
    },
    {
      "cell_type": "code",
      "execution_count": null,
      "id": "7635bf6b",
      "metadata": {
        "id": "7635bf6b",
        "outputId": "691941e9-cfdb-429d-b044-ad7219ccad32",
        "colab": {
          "base_uri": "https://localhost:8080/"
        }
      },
      "outputs": [
        {
          "output_type": "stream",
          "name": "stdout",
          "text": [
            "dict_keys(['name', 'age', 'city'])\n",
            "dict_values(['John', 21, 'New York'])\n",
            "dict_items([('name', 'John'), ('age', 21), ('city', 'New York')])\n"
          ]
        }
      ],
      "source": [
        "print(student.keys())    # Output: dict_keys(['name', 'age', 'city'])\n",
        "print(student.values())  # Output: dict_values(['John', 21, 'New York'])\n",
        "print(student.items())   # Output: dict_items([('name', 'John'), ('age', 21), ('city', 'New York')])"
      ]
    },
    {
      "cell_type": "markdown",
      "id": "3a3ce429",
      "metadata": {
        "id": "3a3ce429"
      },
      "source": [
        "## Type Conversion"
      ]
    },
    {
      "cell_type": "code",
      "execution_count": null,
      "id": "71240523",
      "metadata": {
        "id": "71240523",
        "outputId": "c96caa9d-1449-4832-db4d-9ebe4e8234ba",
        "colab": {
          "base_uri": "https://localhost:8080/"
        }
      },
      "outputs": [
        {
          "output_type": "stream",
          "name": "stdout",
          "text": [
            "<class 'int'>\n",
            "<class 'str'>\n",
            "<class 'str'>\n"
          ]
        }
      ],
      "source": [
        "var1 = 13 #int\n",
        "print(type(var1))\n",
        "\n",
        "var2 = str(var1) #converting a int type variable to str type\n",
        "print(type(var2))\n",
        "\n",
        "#Alternatively you can also do this (preffered)\n",
        "print(type(str(var1)))\n"
      ]
    },
    {
      "cell_type": "markdown",
      "id": "add1b8de",
      "metadata": {
        "id": "add1b8de"
      },
      "source": [
        "## Conditional Operators"
      ]
    },
    {
      "cell_type": "markdown",
      "id": "2d2f4db0",
      "metadata": {
        "id": "2d2f4db0"
      },
      "source": [
        "#### Comparison Operators:\n",
        "* x == y   # Equal to\n",
        "* x != y   # Not equal to\n",
        "* x < y    # Less than\n",
        "* x > y    # Greater than\n",
        "* x <= y   # Less than or equal to\n",
        "* x >= y   # Greater than or equal to\n"
      ]
    },
    {
      "cell_type": "code",
      "execution_count": null,
      "id": "c60ac32b",
      "metadata": {
        "id": "c60ac32b",
        "outputId": "ef823e9f-30a3-439c-c163-7f7513c8c8b8",
        "colab": {
          "base_uri": "https://localhost:8080/"
        }
      },
      "outputs": [
        {
          "output_type": "stream",
          "name": "stdout",
          "text": [
            "True\n",
            "True\n",
            "True\n"
          ]
        }
      ],
      "source": [
        "print(7==7)\n",
        "print(6!=7)\n",
        "print(6<7)\n",
        "# reamining operators can be for class practise\n"
      ]
    },
    {
      "cell_type": "markdown",
      "id": "c6b7f540",
      "metadata": {
        "id": "c6b7f540"
      },
      "source": [
        "#### Logical Operators\n",
        "* x and y    # Logical AND\n",
        "* x or y     # Logical OR\n",
        "* not x      # Logical NOT\n"
      ]
    },
    {
      "cell_type": "markdown",
      "id": "b5d373fa",
      "metadata": {
        "id": "b5d373fa"
      },
      "source": [
        "#### Memebrship Operators\n",
        "* x in y     # True if x is found in the iterable y\n",
        "* x not in y # True if x is not found in the iterable y\n"
      ]
    },
    {
      "cell_type": "markdown",
      "id": "6abc3e4b",
      "metadata": {
        "id": "6abc3e4b"
      },
      "source": [
        "#### Identity Operators\n",
        "* x is y     # True if x and y refer to the same object\n",
        "* x is not y # True if x and y do not refer to the same object\n"
      ]
    },
    {
      "cell_type": "markdown",
      "id": "aedaf175",
      "metadata": {
        "id": "aedaf175"
      },
      "source": [
        "## Conditional Statements (if, else, elif)"
      ]
    },
    {
      "cell_type": "markdown",
      "id": "4267ebfd",
      "metadata": {
        "id": "4267ebfd"
      },
      "source": [
        "```python\n",
        "if condition:\n",
        "    # Code to execute if condition is True\n",
        "elif another_condition:\n",
        "    # Code to execute if another_condition is True\n",
        "else:\n",
        "    # Code to execute if none of the above conditions are True\n",
        "```"
      ]
    },
    {
      "cell_type": "code",
      "execution_count": null,
      "id": "ce68fe9a",
      "metadata": {
        "id": "ce68fe9a",
        "outputId": "c3f3cb1f-231e-4dbb-d936-bf513ddcfa7e",
        "colab": {
          "base_uri": "https://localhost:8080/"
        }
      },
      "outputs": [
        {
          "output_type": "stream",
          "name": "stdout",
          "text": [
            "7 is not in [1, 2, 3, 4]\n"
          ]
        }
      ],
      "source": [
        "list = [1, 2, 3, 4]\n",
        "\n",
        "x = 7\n",
        "\n",
        "if x in list:\n",
        "    print(f\"{x} is in {list}\") #formatted string allows us to add variable value inside string\n",
        "else:\n",
        "    print(f\"{x} is not in {list}\")\n"
      ]
    },
    {
      "cell_type": "code",
      "execution_count": null,
      "id": "7fbae842",
      "metadata": {
        "id": "7fbae842",
        "outputId": "83f2b80a-4329-44a8-a1c5-9c2e950f4e71",
        "colab": {
          "base_uri": "https://localhost:8080/"
        }
      },
      "outputs": [
        {
          "output_type": "stream",
          "name": "stdout",
          "text": [
            "Failed\n"
          ]
        }
      ],
      "source": [
        "score = 35 # try with another value less than 40\n",
        "\n",
        "if score >= 40:\n",
        "    print(\"Passed\")\n",
        "else:\n",
        "    print(\"Failed\")"
      ]
    },
    {
      "cell_type": "markdown",
      "id": "4243cd68",
      "metadata": {
        "id": "4243cd68"
      },
      "source": [
        "## Functions\n",
        "Functions in Python are blocks of reusable code that perform a specific task. They allow you to break down your program into smaller, manageable parts and promote code reuse."
      ]
    },
    {
      "cell_type": "markdown",
      "id": "1849ac23",
      "metadata": {
        "id": "1849ac23"
      },
      "source": [
        "**Function Definition:**\n",
        "- To define a function in Python, you use the def keyword followed by the function name, parentheses **`()`**, and a colon **`:`**. The function body is indented under the definition."
      ]
    },
    {
      "cell_type": "code",
      "execution_count": null,
      "id": "7e958b84",
      "metadata": {
        "id": "7e958b84"
      },
      "outputs": [],
      "source": [
        "def greet():\n",
        "    print(\"Hello, world!\")"
      ]
    },
    {
      "cell_type": "code",
      "source": [
        "greet()"
      ],
      "metadata": {
        "colab": {
          "base_uri": "https://localhost:8080/"
        },
        "id": "6EXA9Su8C7A4",
        "outputId": "1a90ac71-c0e0-4e1c-e1ff-ea1d868ec90a"
      },
      "id": "6EXA9Su8C7A4",
      "execution_count": null,
      "outputs": [
        {
          "output_type": "stream",
          "name": "stdout",
          "text": [
            "Hello, world!\n"
          ]
        }
      ]
    },
    {
      "cell_type": "markdown",
      "id": "5a6a90e1",
      "metadata": {
        "id": "5a6a90e1"
      },
      "source": [
        "**Function Parameters:**\n",
        "Functions can accept parameters, which are variables that allow you to pass data into the function. Parameters are specified within the parentheses after the function name."
      ]
    },
    {
      "cell_type": "code",
      "execution_count": null,
      "id": "be764ba6",
      "metadata": {
        "id": "be764ba6"
      },
      "outputs": [],
      "source": [
        "def greet(name):\n",
        "    print(\"Hello, \" + name + \"!\")"
      ]
    },
    {
      "cell_type": "code",
      "execution_count": null,
      "id": "cc68175b",
      "metadata": {
        "id": "cc68175b",
        "outputId": "d1d79c12-3631-474c-c0b3-da781e77324f",
        "colab": {
          "base_uri": "https://localhost:8080/"
        }
      },
      "outputs": [
        {
          "output_type": "stream",
          "name": "stdout",
          "text": [
            "Hello, John!\n"
          ]
        }
      ],
      "source": [
        "def greet(name):\n",
        "    # Function definition\n",
        "    print(\"Hello, \" + name + \"!\")\n",
        "\n",
        "greet(\"John\")  # Function call"
      ]
    },
    {
      "cell_type": "markdown",
      "id": "148a1d49",
      "metadata": {
        "id": "148a1d49"
      },
      "source": [
        "**Return Statement:**\n",
        "Functions can optionally return a value using the **`return`** statement. The value returned by a function can be assigned to a variable or used directly."
      ]
    },
    {
      "cell_type": "code",
      "execution_count": null,
      "id": "9b1ec2b4",
      "metadata": {
        "id": "9b1ec2b4"
      },
      "outputs": [],
      "source": [
        "def add_numbers(x, y):\n",
        "    return x + y"
      ]
    },
    {
      "cell_type": "code",
      "source": [
        "sum = add_numbers(7,3)\n",
        "print(sum)"
      ],
      "metadata": {
        "colab": {
          "base_uri": "https://localhost:8080/"
        },
        "id": "mb0x0upBDhi6",
        "outputId": "1eeb924b-6ec2-4c39-a99d-0c745a848fb8"
      },
      "id": "mb0x0upBDhi6",
      "execution_count": null,
      "outputs": [
        {
          "output_type": "stream",
          "name": "stdout",
          "text": [
            "10\n"
          ]
        }
      ]
    },
    {
      "cell_type": "markdown",
      "id": "a5e020fa",
      "metadata": {
        "id": "a5e020fa"
      },
      "source": [
        "**Function Call:**\n",
        "To execute a function, you call it by using its name followed by parentheses. If the function has parameters, you provide the values within the parentheses."
      ]
    },
    {
      "cell_type": "code",
      "execution_count": null,
      "id": "a11a1748",
      "metadata": {
        "scrolled": true,
        "id": "a11a1748",
        "outputId": "bb30be58-77c8-47cf-b402-e2082574e71d",
        "colab": {
          "base_uri": "https://localhost:8080/"
        }
      },
      "outputs": [
        {
          "output_type": "stream",
          "name": "stdout",
          "text": [
            "Hello, Alice!\n",
            "8\n"
          ]
        }
      ],
      "source": [
        "greet(\"Alice\")\n",
        "sum_result = add_numbers(3, 5)\n",
        "print(sum_result)"
      ]
    },
    {
      "cell_type": "markdown",
      "id": "d620787c",
      "metadata": {
        "id": "d620787c"
      },
      "source": [
        "**Keyword Arguments:**\n",
        "When calling a function, you can provide arguments using **`keyword-value`** pairs. This allows you to pass arguments in any order, as long as you specify the parameter names."
      ]
    },
    {
      "cell_type": "code",
      "execution_count": null,
      "id": "8f77f273",
      "metadata": {
        "id": "8f77f273",
        "outputId": "e1a990f9-f062-4e23-b86f-aec89b47486b",
        "colab": {
          "base_uri": "https://localhost:8080/"
        }
      },
      "outputs": [
        {
          "output_type": "stream",
          "name": "stdout",
          "text": [
            "Hello, Alice!\n"
          ]
        }
      ],
      "source": [
        "greet(name=\"Alice\")"
      ]
    },
    {
      "cell_type": "markdown",
      "id": "544cf35a",
      "metadata": {
        "id": "544cf35a"
      },
      "source": [
        "**Variable Number of Arguments**:\n",
        "Functions can accept a variable number of arguments using special syntax. The **`*args`** parameter allows you to pass multiple arguments as a **`tuple`**."
      ]
    },
    {
      "cell_type": "code",
      "execution_count": null,
      "id": "4cfed8b6",
      "metadata": {
        "id": "4cfed8b6"
      },
      "outputs": [],
      "source": [
        "def sum_numbers(*args):\n",
        "    total = 0\n",
        "    for num in args:\n",
        "        total += num\n",
        "    return total"
      ]
    },
    {
      "cell_type": "code",
      "execution_count": null,
      "id": "304d3a7b",
      "metadata": {
        "id": "304d3a7b",
        "outputId": "dd6a4f85-d960-4b2c-f6d7-1156b7446f18",
        "colab": {
          "base_uri": "https://localhost:8080/"
        }
      },
      "outputs": [
        {
          "output_type": "stream",
          "name": "stdout",
          "text": [
            "10\n"
          ]
        }
      ],
      "source": [
        "sum = sum_numbers(1,2,3,4)\n",
        "print(sum)"
      ]
    },
    {
      "cell_type": "markdown",
      "id": "b257653c",
      "metadata": {
        "id": "b257653c"
      },
      "source": [
        "## Loops\n"
      ]
    },
    {
      "cell_type": "markdown",
      "id": "c16e203b",
      "metadata": {
        "id": "c16e203b"
      },
      "source": [
        "#### For Loop"
      ]
    },
    {
      "cell_type": "markdown",
      "id": "7957947a",
      "metadata": {
        "id": "7957947a"
      },
      "source": [
        "```python\n",
        "for item in iterable:\n",
        "    # Code to execute for each item in the iterable\n",
        "```"
      ]
    },
    {
      "cell_type": "code",
      "execution_count": null,
      "id": "703748ea",
      "metadata": {
        "id": "703748ea",
        "outputId": "34220c60-717d-4589-ab38-67057142df91",
        "colab": {
          "base_uri": "https://localhost:8080/"
        }
      },
      "outputs": [
        {
          "output_type": "stream",
          "name": "stdout",
          "text": [
            "apple\n",
            "orange\n",
            "banana\n",
            "mango\n"
          ]
        }
      ],
      "source": [
        "fruit_list = ['apple', 'orange', 'banana', 'mango']\n",
        "\n",
        "for fruit in fruit_list:\n",
        "    print(fruit)"
      ]
    },
    {
      "cell_type": "code",
      "execution_count": null,
      "id": "25eb93d4",
      "metadata": {
        "id": "25eb93d4",
        "outputId": "7f0640ae-fa94-45dc-994f-fbeee8983c77",
        "colab": {
          "base_uri": "https://localhost:8080/"
        }
      },
      "outputs": [
        {
          "output_type": "stream",
          "name": "stdout",
          "text": [
            "6\n",
            "7\n",
            "8\n",
            "9\n"
          ]
        }
      ],
      "source": [
        "# for looping a number range\n",
        "for i in range(6,10):\n",
        "    print(i)"
      ]
    },
    {
      "cell_type": "markdown",
      "id": "865570ab",
      "metadata": {
        "id": "865570ab"
      },
      "source": [
        "**In Python, the range() function generates a sequence of numbers. When specifying a range, the end value is excluded. This design choice is made to align with the zero-based indexing used in Python and many other programming languages.**"
      ]
    },
    {
      "cell_type": "markdown",
      "id": "4f676c95",
      "metadata": {
        "id": "4f676c95"
      },
      "source": [
        "**The range() function follows the syntax range(start, stop, step), where start is the starting value (inclusive), stop is the ending value (exclusive), and step is the step size between values. The resulting range includes values from start up to, but not including, stop.**"
      ]
    },
    {
      "cell_type": "code",
      "execution_count": null,
      "id": "6405b897",
      "metadata": {
        "id": "6405b897",
        "outputId": "144e2018-398a-4436-fa6c-fe1187536b6a",
        "colab": {
          "base_uri": "https://localhost:8080/"
        }
      },
      "outputs": [
        {
          "output_type": "stream",
          "name": "stdout",
          "text": [
            "0\n",
            "2\n",
            "4\n",
            "6\n",
            "8\n"
          ]
        }
      ],
      "source": [
        "# for looping a number range using step\n",
        "for i in range (0,10,2):\n",
        "    print(i)"
      ]
    },
    {
      "cell_type": "code",
      "execution_count": null,
      "id": "39699aac",
      "metadata": {
        "id": "39699aac",
        "outputId": "02eaa74e-8a87-463a-b17a-e6a999be06a8",
        "colab": {
          "base_uri": "https://localhost:8080/"
        }
      },
      "outputs": [
        {
          "output_type": "stream",
          "name": "stdout",
          "text": [
            "10\n",
            "8\n",
            "6\n",
            "4\n",
            "2\n"
          ]
        }
      ],
      "source": [
        "# for looping a number range in reverse using step\n",
        "for i in range (10,0,-2):\n",
        "    print(i)"
      ]
    },
    {
      "cell_type": "markdown",
      "id": "cbe55e03",
      "metadata": {
        "id": "cbe55e03"
      },
      "source": [
        "#### While Loop"
      ]
    },
    {
      "cell_type": "markdown",
      "id": "da59b015",
      "metadata": {
        "id": "da59b015"
      },
      "source": [
        "``` python\n",
        "while condition:\n",
        "    # Code to execute as long as the condition is True\n",
        "```"
      ]
    },
    {
      "cell_type": "code",
      "execution_count": null,
      "id": "e8a95e8c",
      "metadata": {
        "id": "e8a95e8c",
        "outputId": "27a078d9-9d9d-4e2f-89f7-62d255b9d7d3",
        "colab": {
          "base_uri": "https://localhost:8080/"
        }
      },
      "outputs": [
        {
          "output_type": "stream",
          "name": "stdout",
          "text": [
            "0\n",
            "1\n",
            "2\n",
            "3\n",
            "4\n",
            "5\n",
            "6\n",
            "7\n"
          ]
        }
      ],
      "source": [
        "number = 0\n",
        "\n",
        "while number <= 7:\n",
        "    print(number)\n",
        "    number += 1 #  += 1 increments the variable number by 1 during each loop execution"
      ]
    },
    {
      "cell_type": "markdown",
      "id": "626d5abc",
      "metadata": {
        "id": "626d5abc"
      },
      "source": [
        "**Infinite Loop can be manually set using `while True:` or it may accidentally occur due to a\n",
        "conditional error, such as `while 2>1:`.**     \n",
        "**We can call `break` to manually break out of a loop**"
      ]
    },
    {
      "cell_type": "code",
      "execution_count": null,
      "id": "afbdae90",
      "metadata": {
        "scrolled": true,
        "id": "afbdae90",
        "outputId": "5df54064-fe78-4531-ef6c-3d9b22c059fa",
        "colab": {
          "base_uri": "https://localhost:8080/"
        }
      },
      "outputs": [
        {
          "output_type": "stream",
          "name": "stdout",
          "text": [
            "1\n",
            "2\n",
            "3\n"
          ]
        }
      ],
      "source": [
        "# infinite loop with break statement\n",
        "count = 0 # setting loop counting variable\n",
        "while True:\n",
        "    count += 1\n",
        "    print(count)\n",
        "    if count == 3:\n",
        "        break"
      ]
    },
    {
      "cell_type": "markdown",
      "id": "ba8df4ad",
      "metadata": {
        "id": "ba8df4ad"
      },
      "source": [
        "**`if  count == 3 then break` contdition was not set then count value would keep incrementing by 1\n",
        "and it would print the count value infinite times.**"
      ]
    },
    {
      "cell_type": "markdown",
      "id": "619739e9",
      "metadata": {
        "id": "619739e9"
      },
      "source": [
        "## Input from user"
      ]
    },
    {
      "cell_type": "code",
      "execution_count": null,
      "id": "94af5cf9",
      "metadata": {
        "id": "94af5cf9",
        "outputId": "df98768d-3b33-46f2-b70a-012531fd003c",
        "colab": {
          "base_uri": "https://localhost:8080/"
        }
      },
      "outputs": [
        {
          "name": "stdout",
          "output_type": "stream",
          "text": [
            "Enter your name: tgg\n",
            "Enter your age: 134\n"
          ]
        }
      ],
      "source": [
        "name = input(\"Enter your name: \")\n",
        "age = int(input(\"Enter your age: \"))  # Convert input to an integer-->type conversion"
      ]
    },
    {
      "cell_type": "markdown",
      "id": "62a481da",
      "metadata": {
        "id": "62a481da"
      },
      "source": [
        "**Input from user through console will always be in string format, if we want input type other than string,\n",
        "then we need to convert the type from string (str) to any other desired data type.**"
      ]
    },
    {
      "cell_type": "markdown",
      "id": "73ea1aff",
      "metadata": {
        "id": "73ea1aff"
      },
      "source": [
        "## Iteration in Python\n",
        "\n",
        "Iteration in Python refers to the process of repeatedly executing a block of code, usually within a loop, to perform operations on a sequence of elements. Iteration allows you to traverse or process each item in a collection, such as a list, tuple, string, or dictionary. Python provides several constructs for iteration:"
      ]
    },
    {
      "cell_type": "markdown",
      "id": "4c9c665a",
      "metadata": {
        "id": "4c9c665a"
      },
      "source": [
        "**Using For Loop:**\n",
        "The **`for`** loop is commonly used for iterating over a sequence of elements. It automatically takes care of managing the iteration variable and stops when it reaches the end of the sequence."
      ]
    },
    {
      "cell_type": "code",
      "execution_count": null,
      "id": "c959c6d1",
      "metadata": {
        "id": "c959c6d1",
        "outputId": "b82e7568-a136-47df-84f6-546e1ff4794b",
        "colab": {
          "base_uri": "https://localhost:8080/"
        }
      },
      "outputs": [
        {
          "output_type": "stream",
          "name": "stdout",
          "text": [
            "1\n",
            "2\n",
            "3\n",
            "4\n",
            "5\n"
          ]
        }
      ],
      "source": [
        "numbers = [1, 2, 3, 4, 5]\n",
        "for num in numbers:\n",
        "    print(num)"
      ]
    },
    {
      "cell_type": "markdown",
      "id": "42ebb459",
      "metadata": {
        "id": "42ebb459"
      },
      "source": [
        "**Using While Loop:**\n",
        "The **`while`** loop repeatedly executes a block of code as long as a given condition is true. It's useful when you want to continue iterating until a specific condition is met."
      ]
    },
    {
      "cell_type": "code",
      "execution_count": null,
      "id": "0efdbb24",
      "metadata": {
        "id": "0efdbb24",
        "outputId": "656e46c6-d6db-445d-82f1-5a912097e5f3",
        "colab": {
          "base_uri": "https://localhost:8080/"
        }
      },
      "outputs": [
        {
          "output_type": "stream",
          "name": "stdout",
          "text": [
            "0\n",
            "1\n",
            "2\n",
            "3\n",
            "4\n"
          ]
        }
      ],
      "source": [
        "count = 0\n",
        "while count < 5:\n",
        "    print(count)\n",
        "    count += 1"
      ]
    },
    {
      "cell_type": "markdown",
      "id": "51234ba9",
      "metadata": {
        "id": "51234ba9"
      },
      "source": [
        "**Iterating Over a Range:**\n",
        "The **`range()`** function generates a sequence of numbers that can be used in iteration. It is often used with a for loop to iterate a specific number of times."
      ]
    },
    {
      "cell_type": "code",
      "execution_count": null,
      "id": "3896d36d",
      "metadata": {
        "id": "3896d36d",
        "outputId": "85f81c96-063d-4131-a504-91c80f727657",
        "colab": {
          "base_uri": "https://localhost:8080/"
        }
      },
      "outputs": [
        {
          "output_type": "stream",
          "name": "stdout",
          "text": [
            "0\n",
            "1\n",
            "2\n",
            "3\n",
            "4\n"
          ]
        }
      ],
      "source": [
        "for i in range(5):\n",
        "    print(i)"
      ]
    },
    {
      "cell_type": "markdown",
      "id": "5b55697d",
      "metadata": {
        "id": "5b55697d"
      },
      "source": [
        "**Enumerate:**\n",
        "The **`enumerate()`** function allows you to iterate over a sequence while simultaneously accessing both the index and value of each element."
      ]
    },
    {
      "cell_type": "code",
      "execution_count": null,
      "id": "40746f2f",
      "metadata": {
        "id": "40746f2f",
        "outputId": "8990069c-a4bd-4d1e-cdf9-e65db6773021",
        "colab": {
          "base_uri": "https://localhost:8080/"
        }
      },
      "outputs": [
        {
          "output_type": "stream",
          "name": "stdout",
          "text": [
            "0 apple\n",
            "1 banana\n",
            "2 orange\n"
          ]
        }
      ],
      "source": [
        "fruits = ['apple', 'banana', 'orange']\n",
        "for index, fruit in enumerate(fruits):\n",
        "    print(index, fruit)"
      ]
    },
    {
      "cell_type": "markdown",
      "id": "9ae5e557",
      "metadata": {
        "id": "9ae5e557"
      },
      "source": [
        "**Iterating Over a Dictionary:**\n",
        "When iterating over a dictionary, you can use the **`items()`** method to access both the keys and values of each item."
      ]
    },
    {
      "cell_type": "code",
      "execution_count": null,
      "id": "8c6205f5",
      "metadata": {
        "scrolled": true,
        "id": "8c6205f5",
        "outputId": "a12ac93e-740b-44c2-aeb7-c5201161eaf9",
        "colab": {
          "base_uri": "https://localhost:8080/"
        }
      },
      "outputs": [
        {
          "output_type": "stream",
          "name": "stdout",
          "text": [
            "name Alice\n",
            "age 25\n",
            "country USA\n"
          ]
        }
      ],
      "source": [
        "person = {'name': 'Alice', 'age': 25, 'country': 'USA'}\n",
        "for key, value in person.items():\n",
        "    print(key, value)"
      ]
    },
    {
      "cell_type": "markdown",
      "id": "43f84a94",
      "metadata": {
        "id": "43f84a94"
      },
      "source": [
        "**Iterating Over Strings:**\n",
        "Strings can be treated as sequences of characters, allowing you to iterate over each character using a loop."
      ]
    },
    {
      "cell_type": "code",
      "execution_count": null,
      "id": "54456edc",
      "metadata": {
        "id": "54456edc",
        "outputId": "676dbb4f-e430-4f86-a641-b17cbd83fe9b",
        "colab": {
          "base_uri": "https://localhost:8080/"
        }
      },
      "outputs": [
        {
          "output_type": "stream",
          "name": "stdout",
          "text": [
            "H\n",
            "e\n",
            "l\n",
            "l\n",
            "o\n",
            ",\n",
            " \n",
            "w\n",
            "o\n",
            "r\n",
            "l\n",
            "d\n",
            "!\n"
          ]
        }
      ],
      "source": [
        "message = 'Hello, world!'\n",
        "for char in message:\n",
        "    print(char)"
      ]
    },
    {
      "cell_type": "markdown",
      "id": "fef796bb",
      "metadata": {
        "id": "fef796bb"
      },
      "source": [
        "Iteration is a fundamental concept in programming, and it enables you to perform repetitive operations on data efficiently. Whether you're processing elements in a sequence, iterating a specific number of times, or accessing both keys and values in a dictionary, Python provides flexible constructs for effective iteration."
      ]
    },
    {
      "cell_type": "markdown",
      "id": "def0746b",
      "metadata": {
        "id": "def0746b"
      },
      "source": [
        "## List Comprehension\n",
        "<img src=\"https://github.com/EDGE-Programe/Python-Basics/blob/master/Python_edge_program/logo_images/list_comprehension.jpg?raw=1\" alt=\"list comprehension\" width=70% height=13% title=\"Python Logo\">"
      ]
    },
    {
      "cell_type": "markdown",
      "id": "4c732035",
      "metadata": {
        "id": "4c732035"
      },
      "source": [
        "List comprehension is a concise way to create lists in Python by combining a loop and conditional statements into a single line of code. It allows you to generate a new list based on an existing list or any iterable, with optional filtering and transformations. <br>\n",
        "**The general syntax of a list comprehension is as follows:**"
      ]
    },
    {
      "cell_type": "markdown",
      "id": "af607e67",
      "metadata": {
        "id": "af607e67"
      },
      "source": [
        "```python\n",
        "new_list = [expression for item in iterable if condition]\n",
        "```\n",
        "\n",
        "**Let's break down the components of a list comprehension:**\n",
        "\n",
        "- **`expression:`** This represents the value or operation applied to each item in the iterable. It determines what will be included in the new list.\n",
        "\n",
        "- **`item:`** It is a variable that represents each item in the iterable during iteration.\n",
        "\n",
        "- **`iterable:`** It can be any sequence like a list, tuple, string, or range. It provides the elements that will be iterated over.\n",
        "\n",
        "- **`condition (optional):`** It allows you to filter elements based on a condition. Only items that satisfy the condition will be included in the new list."
      ]
    },
    {
      "cell_type": "markdown",
      "id": "47ea4d33",
      "metadata": {
        "id": "47ea4d33"
      },
      "source": [
        "**Example 1:** Generating a list of squares"
      ]
    },
    {
      "cell_type": "code",
      "execution_count": null,
      "id": "ea67b00e",
      "metadata": {
        "scrolled": true,
        "id": "ea67b00e",
        "outputId": "e0a2f98c-7395-4851-95c9-9a7225ca3031",
        "colab": {
          "base_uri": "https://localhost:8080/"
        }
      },
      "outputs": [
        {
          "output_type": "stream",
          "name": "stdout",
          "text": [
            "[1, 4, 9, 16, 25]\n"
          ]
        }
      ],
      "source": [
        "numbers = [1, 2, 3, 4, 5]\n",
        "squares = [num**2 for num in numbers]\n",
        "print(squares)"
      ]
    },
    {
      "cell_type": "markdown",
      "id": "b73f1df1",
      "metadata": {
        "id": "b73f1df1"
      },
      "source": [
        "**Example 2:** Filtering even numbers"
      ]
    },
    {
      "cell_type": "code",
      "execution_count": null,
      "id": "33ac249a",
      "metadata": {
        "id": "33ac249a",
        "outputId": "dcfc576c-3cb4-48a3-b4af-bc940e017c04",
        "colab": {
          "base_uri": "https://localhost:8080/"
        }
      },
      "outputs": [
        {
          "output_type": "stream",
          "name": "stdout",
          "text": [
            "[2, 4]\n"
          ]
        }
      ],
      "source": [
        "numbers = [1, 2, 3, 4, 5]\n",
        "even_numbers = [num for num in numbers if num % 2 == 0]\n",
        "print(even_numbers)"
      ]
    },
    {
      "cell_type": "markdown",
      "id": "86efcb09",
      "metadata": {
        "id": "86efcb09"
      },
      "source": [
        "**Example 3:**\n",
        "Creating a list of uppercase letters from a string"
      ]
    },
    {
      "cell_type": "code",
      "execution_count": null,
      "id": "7f9f750c",
      "metadata": {
        "scrolled": true,
        "id": "7f9f750c",
        "outputId": "41773d0c-712c-4a7c-fd92-44c7a9cd6131",
        "colab": {
          "base_uri": "https://localhost:8080/"
        }
      },
      "outputs": [
        {
          "output_type": "stream",
          "name": "stdout",
          "text": [
            "['H', 'E', 'L', 'L', 'O', 'W', 'O', 'R', 'L', 'D']\n"
          ]
        }
      ],
      "source": [
        "string = \"Hello, World!\"\n",
        "upper_letters = [char.upper() for char in string if char.isalpha()]\n",
        "print(upper_letters)"
      ]
    },
    {
      "cell_type": "markdown",
      "id": "a0461bd1",
      "metadata": {
        "id": "a0461bd1"
      },
      "source": [
        "List comprehensions are a powerful tool that can make your code more concise and expressive. However, it's important to strike a balance between readability and complexity. In some cases, using a traditional loop may be more appropriate, especially when the logic becomes more complex or when working with larger data sets."
      ]
    },
    {
      "cell_type": "markdown",
      "id": "b5fc1f26",
      "metadata": {
        "id": "b5fc1f26"
      },
      "source": [
        "## Classes and Object (OOP)"
      ]
    },
    {
      "cell_type": "code",
      "execution_count": null,
      "id": "0a5cf032",
      "metadata": {
        "id": "0a5cf032",
        "outputId": "26731515-7da2-4cd1-debe-0cc034dd86f9",
        "colab": {
          "base_uri": "https://localhost:8080/"
        }
      },
      "outputs": [
        {
          "output_type": "stream",
          "name": "stdout",
          "text": [
            "Driving the Toyota Camry\n"
          ]
        }
      ],
      "source": [
        "class Car:\n",
        "    def __init__(self, brand, model):\n",
        "        self.brand = brand\n",
        "        self.model = model\n",
        "\n",
        "    def drive(self):\n",
        "        print(\"Driving the\", self.brand, self.model)\n",
        "\n",
        "my_car = Car(\"Toyota\", \"Camry\")\n",
        "my_car.drive()  # Calls the drive method of the my_car object"
      ]
    },
    {
      "cell_type": "markdown",
      "id": "db6dcb75",
      "metadata": {
        "id": "db6dcb75"
      },
      "source": [
        "* In Python, the __init__ method and the self parameter are used in classes to initialize the object's attributes and enable proper attribute access within the class. Let's break down their roles: <br>\n",
        "1. `__int__` method:\n",
        "The __init__ method is a special method in Python classes that gets called automatically when an object of the    class is created. It is used to initialize the attributes of the object. By defining this method within a class, you can set up the initial state of the object and provide default values for its attributes. <br>.\n",
        "  ```python\n",
        "    class Car:\n",
        "    def __init__(self, brand, model):\n",
        "        self.brand = brand\n",
        "        self.model = model\n",
        "```\n",
        "In the above example, the __init__ method takes two parameters: self (which represents the instance of the object being created) and the additional parameters brand and model. Inside the __init__ method, you can assign the values of brand and model to the object's attributes using the self parameter.\n",
        "\n",
        "2. self parameter:\n",
        "The self parameter is a convention in Python that represents the instance of the object itself. It allows you to access and manipulate the object's attributes and methods within the class. By using the self parameter, you can differentiate between the attributes and methods of the current instance and those of the class itself.<br>\n",
        "```python\n",
        "class Car:\n",
        "    def __init__(self, brand, model):\n",
        "        self.brand = brand\n",
        "        self.model = model\n",
        "\n",
        "    def drive(self):\n",
        "        print(\"Driving the\", self.brand, self.model)\n",
        "```\n",
        "In the above example, the self parameter is used within the __init__ method to set the values of brand and model as attributes of the object. It is also used within the drive method to access the attributes and print them alongside a message.<br>\n",
        "\n",
        "When you create an instance of the Car class, the self parameter is implicitly passed and refers to that specific instance. For example:<br>\n",
        "```python\n",
        "my_car = Car(\"Toyota\", \"Camry\")\n",
        "my_car.drive()  # Output: Driving the Toyota Camry\n",
        "```\n",
        "In the drive method, self.brand and self.model allow you to access the attributes of the specific my_car instance.<br>\n",
        "**By using __init__ and self, you can ensure that objects created from the class are properly initialized with their attributes set and that the methods can operate on the specific instance's attributes.**\n"
      ]
    },
    {
      "cell_type": "code",
      "execution_count": null,
      "id": "c7cbdae8",
      "metadata": {
        "scrolled": true,
        "id": "c7cbdae8",
        "outputId": "94c1912c-cb92-4ea2-eeb0-7c8fb1ee2f9b",
        "colab": {
          "base_uri": "https://localhost:8080/"
        }
      },
      "outputs": [
        {
          "output_type": "stream",
          "name": "stdout",
          "text": [
            "Driving the Ford Mustang\n",
            "Car\n"
          ]
        }
      ],
      "source": [
        "your_car = Car(\"Ford\", \"Mustang\")\n",
        "your_car.drive()\n",
        "print(type(your_car).__name__) # printing without the module name"
      ]
    },
    {
      "cell_type": "markdown",
      "id": "51df8c56",
      "metadata": {
        "id": "51df8c56"
      },
      "source": [
        "### Polymorphism:\n",
        "Polymorphism allows objects of different classes to respond to the same method call in different ways. It enables code to be written in a generic manner, working with objects of different types as long as they support a common interface.<br>"
      ]
    },
    {
      "cell_type": "code",
      "execution_count": null,
      "id": "2f798dfd",
      "metadata": {
        "scrolled": true,
        "id": "2f798dfd",
        "outputId": "090f46fd-4768-4d2f-e90d-fd667da4526a",
        "colab": {
          "base_uri": "https://localhost:8080/"
        }
      },
      "outputs": [
        {
          "output_type": "stream",
          "name": "stdout",
          "text": [
            "20\n",
            "28.259999999999998\n"
          ]
        }
      ],
      "source": [
        "class Shape:\n",
        "    def calculate_area(self):\n",
        "        pass\n",
        "\n",
        "class Rectangle(Shape):\n",
        "    def __init__(self, width, height):\n",
        "        self.width = width\n",
        "        self.height = height\n",
        "\n",
        "    def calculate_area(self):\n",
        "        return self.width * self.height\n",
        "\n",
        "class Circle(Shape):\n",
        "    def __init__(self, radius):\n",
        "        self.radius = radius\n",
        "\n",
        "    def calculate_area(self):\n",
        "        return 3.14 * self.radius * self.radius\n",
        "\n",
        "# Create objects of different shapes\n",
        "rectangle = Rectangle(4, 5)\n",
        "circle = Circle(3)\n",
        "\n",
        "# Call the calculate_area method on different shapes\n",
        "print(rectangle.calculate_area())  # Output: 20\n",
        "print(circle.calculate_area())     # Output: 28.26"
      ]
    },
    {
      "cell_type": "markdown",
      "id": "906c9c02",
      "metadata": {
        "id": "906c9c02"
      },
      "source": [
        "In this example, both the **``Rectangle``** and **``Circle``** classes inherit from the **``Shape``** class and **`override`** the **`calculate_area`** method. Each subclass provides its own implementation of calculating the area based on its specific shape. When we call the **``calculate_area``** method on each object, **polymorphism ensures that the appropriate implementation is called based on the object's actual type.**<br>"
      ]
    },
    {
      "cell_type": "markdown",
      "id": "caba2612",
      "metadata": {
        "id": "caba2612"
      },
      "source": [
        "### Inheritance:\n",
        "Inheritance allows creating a **``new class (child class)``** from an **``existing class (parent class)``**, inheriting its attributes and methods. The child class can extend the functionality of the parent class or override its methods.<br>"
      ]
    },
    {
      "cell_type": "code",
      "execution_count": null,
      "id": "3ca59833",
      "metadata": {
        "scrolled": true,
        "id": "3ca59833",
        "outputId": "e174a460-452c-4440-ccd5-32e9463aca23",
        "colab": {
          "base_uri": "https://localhost:8080/"
        }
      },
      "outputs": [
        {
          "output_type": "stream",
          "name": "stdout",
          "text": [
            "Name: John Doe, Age: 30\n",
            "Name: Jane Smith, Age: 25\n",
            "Employee ID: EMP123\n"
          ]
        }
      ],
      "source": [
        "class Person:\n",
        "    def __init__(self, name, age):\n",
        "        self.name = name\n",
        "        self.age = age\n",
        "\n",
        "    def display_info(self):\n",
        "        print(f\"Name: {self.name}, Age: {self.age}\")\n",
        "\n",
        "class Employee(Person):\n",
        "    def __init__(self, name, age, employee_id):\n",
        "        super().__init__(name, age)\n",
        "        self.employee_id = employee_id\n",
        "\n",
        "    def display_info(self):\n",
        "        super().display_info()\n",
        "        print(f\"Employee ID: {self.employee_id}\")\n",
        "\n",
        "# Create a Person object\n",
        "person = Person(\"John Doe\", 30)\n",
        "person.display_info()\n",
        "# Create an Employee object\n",
        "employee = Employee(\"Jane Smith\", 25, \"EMP123\")\n",
        "employee.display_info()"
      ]
    },
    {
      "cell_type": "markdown",
      "id": "e50f7047",
      "metadata": {
        "id": "e50f7047"
      },
      "source": [
        "In this example, the **``Person``** class is the base class, and the **``Employee``** class is the derived class. The **``Employee``** class inherits the **``name``** and **``age``** attributes from the **``Person``** class using the **``super()``** function in its **``__init__``** method. It also **``overrides``** the **``display_info``** method to include additional information specific to employees. When we call the **``display_info``** method on an **``Employee``** object, it first calls the base class's **``display_info``** method using **``super()``**, and then adds the employee ID information.<br>"
      ]
    },
    {
      "cell_type": "markdown",
      "id": "d51ebcc0",
      "metadata": {
        "id": "d51ebcc0"
      },
      "source": [
        "### Mutable and Immutable Objects"
      ]
    },
    {
      "cell_type": "markdown",
      "id": "dba7cb62",
      "metadata": {
        "id": "dba7cb62"
      },
      "source": [
        "In Python, objects are categorized as either mutable or immutable based on whether their state can be modified after they are created.<br>\n",
        "\n",
        "Immutable objects: Immutable objects cannot be modified after they are created. If you need to change the value of an immutable object, you create a new object with the updated value. Immutable objects include numbers (integers, floats), strings, tuples, and frozensets.<br>\n",
        "\n",
        "```python\n",
        "a = 5  # Immutable integer\n",
        "b = \"Hello\"  # Immutable string\n",
        "c = (1, 2, 3)  # Immutable tuple\n",
        "```\n",
        "For example, if you want to change the value of a to 10, you cannot modify it directly. Instead, you create a new object a = 10.<br>\n",
        "\n",
        "```python\n",
        "a = 5\n",
        "a = 10  # Reassigning a new object to `a`\n",
        "```\n",
        "Mutable objects: Mutable objects, on the other hand, can be modified after they are created. You can change their state, add or remove elements, or modify existing elements. Mutable objects include lists, dictionaries, sets, and user-defined classes.<br>\n",
        "\n",
        "```python\n",
        "x = [1, 2, 3]  # Mutable list\n",
        "y = {\"name\": \"John\", \"age\": 25}  # Mutable dictionary\n",
        "z = set([1, 2, 3])  # Mutable set\n",
        "```\n",
        "For example, you can modify the elements of a list, add or remove items, or change specific values within a dictionary.<br>\n",
        "\n",
        "```python\n",
        "x = [1, 2, 3]\n",
        "x.append(4)  # Modifying the list by adding an element\n",
        "\n",
        "y = {\"name\": \"John\", \"age\": 25}\n",
        "y[\"age\"] = 26  # Modifying the dictionary by changing a value\n",
        "```\n",
        "Understanding whether an object is mutable or immutable is important because it affects how you handle and manipulate data. Immutable objects are often used when you need to ensure data integrity, while mutable objects provide flexibility for modifying and updating data in-place."
      ]
    }
  ],
  "metadata": {
    "kernelspec": {
      "display_name": "Python 3 (ipykernel)",
      "language": "python",
      "name": "python3"
    },
    "language_info": {
      "codemirror_mode": {
        "name": "ipython",
        "version": 3
      },
      "file_extension": ".py",
      "mimetype": "text/x-python",
      "name": "python",
      "nbconvert_exporter": "python",
      "pygments_lexer": "ipython3",
      "version": "3.8.16"
    },
    "colab": {
      "provenance": []
    }
  },
  "nbformat": 4,
  "nbformat_minor": 5
}