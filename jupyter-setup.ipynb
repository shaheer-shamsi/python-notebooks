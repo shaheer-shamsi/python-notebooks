{
  "cells": [
    {
      "cell_type": "markdown",
      "id": "bdd949df",
      "metadata": {
        "id": "bdd949df"
      },
      "source": [
        "# Virtual Environment"
      ]
    },
    {
      "cell_type": "markdown",
      "id": "b740fd22",
      "metadata": {
        "id": "b740fd22"
      },
      "source": [
        "A virtual environment is a self-contained Python environment that allows you to isolate and manage dependencies for different projects. It enables you to create an independent environment with its own set of installed packages and Python interpreter, separate from your system's default Python installation.\n",
        "\n",
        "Virtual environments are useful when you are working on multiple projects that require different versions of Python or different sets of packages. They help avoid conflicts between dependencies and provide a clean and consistent environment for each project.\n",
        "\n",
        "Here are some key benefits and use cases of virtual environments:\n",
        "\n",
        "- **Dependency Isolation:** Each virtual environment has its own isolated Python installation and package dependencies. This means that you can have different versions of packages installed in different virtual environments without any interference or conflicts.\n",
        "\n",
        "- **Project Portability:** Virtual environments make it easier to share your code and project with others. By including the virtual environment, you ensure that others can easily replicate the environment with the same dependencies and Python version.\n",
        "\n",
        "- **Reproducible Environments:** Virtual environments allow you to create reproducible environments for your projects. You can specify the exact versions of packages needed for your project, ensuring that anyone who uses the virtual environment gets the same behavior and results.\n",
        "\n",
        "- **Easy Dependency Management:** With virtual environments, you can easily install, upgrade, or remove packages within the environment without affecting other projects or the system-wide Python installation.<br>\n",
        "<br>\n",
        "<img src=\"https://github.com/EDGE-Programe/Python-Basics/blob/master/Python_edge_program/logo_images/virtual-env.webp?raw=1\" alt=\"python\" width=85% height=71% title=\"Python Virtual Environment\"> <br>\n",
        "\n",
        "Tools like **`venv`**, **`virtualenv`**, or **`conda`** can be used to create and manage virtual environments in Python. These tools create a separate directory containing a copy of the Python interpreter along with the necessary files to isolate the environment.\n",
        "\n",
        "**`conda`** is the standard and the most easiest tool to create and manage a virtual environment for python."
      ]
    },
    {
      "cell_type": "markdown",
      "id": "8d7205ac",
      "metadata": {
        "id": "8d7205ac"
      },
      "source": [
        "## Virtual Environment With Conda"
      ]
    },
    {
      "cell_type": "markdown",
      "id": "56ec781c",
      "metadata": {
        "id": "56ec781c"
      },
      "source": [
        "First we will create a virtual environment using the **`conda`** virtual environment tool for python. Given below is the process to create a virtual environment using  **`conda`**.\n",
        "\n",
        "- **Step 1**: **`Installing Conda/MiniConda`**<br>\n",
        "Go to: https://docs.conda.io/en/latest/miniconda.html, download the miniconda installer for your machine. Which installer package you download depends on your **operating system** & which python version you want as your **root/base** version.<br>\n",
        "<img src=\"https://github.com/EDGE-Programe/Python-Basics/blob/master/Python_edge_program/logo_images/miniconda_linux.png?raw=1\" alt=\"conda\" width=94% height=85% title=\"miniconda options for linux\"> <br>\n",
        "\n",
        "Once you download the desired miniconda installer, install conda by running the miniconda installer; for **`Windows`** double click the **`.exe`**(execution) file; for **`Linux & MacOS`** the process is bit different. For **Linux** & **MacOS** operating systems the miniconda installer will be a **`.sh`**(bash) file. We need to run the file using the following command by opening terminal on the directory where miniconda installer was downloaded: <br>\n",
        "\n",
        "```bash\n",
        "bash miniconda_installer_file.sh\n",
        "```\n",
        "<br>\n",
        "<img src=\"https://github.com/EDGE-Programe/Python-Basics/blob/master/Python_edge_program/logo_images/install_miniconda.png?raw=1\" alt=\"conda\" width=76% height=67% title=\"Install miniconda\"> <br>\n",
        "<br>\n",
        "\n",
        "Then hit the **`enter`** button until it **prompts** you to write **`yes or no`**; type **`yes`** when the prompt appears and hit **`enter`** again.\n",
        "\n",
        "<br>\n",
        "<img src=\"https://github.com/EDGE-Programe/Python-Basics/blob/master/Python_edge_program/logo_images/miniconda_yes.png?raw=1\" alt=\"conda\" width=76% height=67% title=\"Install miniconda\"> <br>\n",
        "<br>\n",
        "\n",
        "You'll be prompted for a installation location after this, if no **`path`** is specified miniconda will be installed on **`home`** directory; if you want a different installation location then specify the **path** of the directory and hit **`enter`**. For windows the process is same but with a **`GUI`** and the default installation **path** is **\\C:** drive.\n",
        "\n",
        "Once installation is complete then close your terminal and open terminal again **(Linux & MacOS)**; but for windows you'll need to open the **`Conda bash terminal`** from the start menu or the miniconda installation directory. If installation is finished properly then you'll see your **root/base** environment active; it'll be specified in the terminal.\n",
        "<br>\n",
        "<img src=\"https://github.com/EDGE-Programe/Python-Basics/blob/master/Python_edge_program/logo_images/installed_miniconda.png?raw=1\" alt=\"conda\" width=76% height=67% title=\"Installed miniconda\"> <br>\n",
        "<br>\n",
        "\n",
        "- **Step 2:** **`Creating a Virtual Environment`**<br>\n",
        "Miniconda installation process may differ according to operating system and root python version but the process to create a virtual environment using miniconda is same for all. To create a virtual environment using miniconda write the following command: <br>\n",
        "\n",
        "```bash\n",
        "conda create -n virtual_env_name python=pyhton_version\n",
        "```\n",
        "<br>\n",
        "<img src=\"https://github.com/EDGE-Programe/Python-Basics/blob/master/Python_edge_program/logo_images/create_venv.png?raw=1\" alt=\"conda\" width=76% height=67% title=\"Create Venv with Miniconda\"> <br>\n",
        "<br>\n",
        "\n",
        "This command will create a virtual environment named **virtual_env_name** with **pyhton_version** as it's python version for executing **`.py`** files; specified python version has to be lower than the **root/base** python version.\n",
        "\n",
        "After the environment is created run the following command to activate and start using the environment:\n",
        "```bash\n",
        "conda activate virtual_env_name\n",
        "```\n",
        "<br>\n",
        "<img src=\"https://github.com/EDGE-Programe/Python-Basics/blob/master/Python_edge_program/logo_images/activate_venv.png?raw=1\" alt=\"conda\" width=76% height=67% title=\"Activate Venv with Miniconda\"> <br>\n",
        "\n",
        "You'll see a indication that you've activated the virtual environment named **virtual_env_name**, now any python package you install will be installed under the currently active environment and won't be installed for any other environments present in your system.\n",
        "\n",
        "#### Some useful conda commands\n",
        "\n",
        "Here are some useful conda commands you'll definetly need to memorize to become a conda expert:\n",
        "\n",
        "1. **`conda env list`**: List of all the virtual environments in the system created with Miniconda. <br>\n",
        "\n",
        "2. **`conda list`**: List of all the packages installed under the currently activated conda environment. <br>\n",
        "\n",
        "3. **`conda activate`**: **conda activate** followed by the **virtual_env_name** will activate & switch to that particular conda virtual environment.\n",
        "\n",
        "4. **`conda deactivate`**: Deactivates the currently active virtual environment.\n",
        "\n",
        "5. **`conda create --name cloned_env --clone original_env`:** Use this command to clone the **original_env** to the new virtual env **cloned_env**. This makes easier to create a new virtual environment that will have all of the python packages already installed in an existing environment."
      ]
    },
    {
      "cell_type": "markdown",
      "id": "10fc9ea6",
      "metadata": {
        "id": "10fc9ea6"
      },
      "source": [
        "## Virtual Environment With Venv"
      ]
    },
    {
      "cell_type": "markdown",
      "id": "d7d7df91",
      "metadata": {
        "id": "d7d7df91"
      },
      "source": [
        "The venv module supports creating lightweight **`virtual environments`**, each with their own independent set of Python packages installed in their site directories. A virtual environment is created on top of an existing Python installation, known as the virtual environment’s **`base`** Python, and may optionally be isolated from the packages in the base environment.\n",
        "\n",
        "To create a virtual environment with **`venv`** we already need to have python installed in our system; which will be our root python.\n",
        "\n",
        "- **`Installing venv`** <br>\n",
        "```bash\n",
        "python -m venv /path/to/new/virtual/environment\n",
        "```\n",
        "This commnad will create a new virtual environment inside the specified directory **`path`**.\n",
        "\n",
        "Now, to **`Activate the virtual environment`**\n",
        "\n",
        "```\n",
        "python -m venv c:\\path\\to\\virtual_env\n",
        "```"
      ]
    },
    {
      "cell_type": "markdown",
      "id": "938a4efd",
      "metadata": {
        "id": "938a4efd"
      },
      "source": [
        "## Virtual Environment With Virtualenv"
      ]
    },
    {
      "cell_type": "markdown",
      "id": "c696f7bf",
      "metadata": {
        "id": "c696f7bf"
      },
      "source": [
        "You can also create a virtual environment using **`Virtualenv`**.\n",
        "\n",
        "- **Step 1:** **`Install Virtualenv`**\n",
        "Use the following command to install **Virtualenv** using the python package library **pip**.\n",
        "\n",
        "```\n",
        "python -m pip install virtualenv\n",
        "```\n",
        "\n",
        "- **Step 2:** **`Create a virtual environment`**\n",
        "```\n",
        "virtualenv env_name\n",
        "```\n",
        "This command will create a virtual environment with the given environment name.\n",
        "\n",
        "Now to activate the environment use:<br>\n",
        "\n",
        "```\n",
        "source env_name/bin/activate\n",
        "```\n",
        "This command will activate the virtual environment for **Linux & MacOS**.<br>\n",
        "\n",
        "```\n",
        ".\\env_name\\Scripts\\activate\n",
        "```\n",
        "This command will activate the virtual environment for **Windows**.<br>"
      ]
    },
    {
      "cell_type": "markdown",
      "id": "a6790056",
      "metadata": {
        "id": "a6790056"
      },
      "source": [
        "**As you can see using conda is by far the easiest way to create and maintain a virtual environment for python**"
      ]
    },
    {
      "cell_type": "markdown",
      "id": "db204bdf",
      "metadata": {
        "id": "db204bdf"
      },
      "source": [
        "## Generating the \"requirements.txt\" file"
      ]
    },
    {
      "cell_type": "markdown",
      "id": "85f27236",
      "metadata": {
        "id": "85f27236"
      },
      "source": [
        "In Python, a **`\"requirements.txt\"`** file is a text file that specifies the dependencies or required packages for a project. It lists the exact versions or version constraints of the packages needed to run the project successfully.\n",
        "\n",
        "The **`\"requirements.txt\"`** file is commonly used in Python projects to manage dependencies and ensure that all required packages are installed correctly. It serves as a centralized place to define the project's dependencies, making it easier for others to reproduce the project's environment.\n",
        "\n",
        "The typical format of a **`\"requirements.txt\"`** file is:\n",
        "\n",
        "```makefile\n",
        "package1==version1\n",
        "package2>=version2,<version3\n",
        "```\n",
        "\n",
        "### Making \"requirements.txt\" using conda\n",
        "\n",
        "To generate a **`\"requirements.txt\"`** file using Conda, you can follow these steps:\n",
        "\n",
        "- **Activate your Conda environment:** Open your command prompt or terminal and activate the Conda environment for which you want to generate the **`\"requirements.txt\"`** file. Use the following command:\n",
        "```bash\n",
        "conda activate your_environment_name\n",
        "```\n",
        "\n",
        "- **Generate the **`\"requirements.txt\"`** file:** Run the following command to export the list of packages and their versions installed in the Conda environment to a **`\"requirements.txt\"`** file:\n",
        "\n",
        "```bash\n",
        "conda list --export > requirements.txt\n",
        "```\n",
        "\n",
        "### Making \"requirements.txt\" using venv\n",
        "\n",
        "To generate a **`\"requirements.txt\"`** using **venv** first activate your virtual env for which you want to make a **requirements.txt** file:\n",
        "\n",
        "- **`For Windows:`**\n",
        "\n",
        "```bash\n",
        "myenv\\Scripts\\activate\n",
        "```\n",
        "- **`For macOS/Linux:`**\n",
        "\n",
        "```bash\n",
        "source myenv/bin/activate\n",
        "```\n",
        "\n",
        "Now to generate the **`\"requirements.txt\"`** file run the following command:<br>\n",
        "\n",
        "```bash\n",
        "pip freeze > requirements.txt\n",
        "```  \n",
        "\n",
        "### Making \"requirements.txt\" using Virtualenv\n",
        "\n",
        "The process is same as **`venv`**; once the environment is activated run the following command to generate the **`\"requirements.txt\"`**.\n",
        "\n",
        "```bash\n",
        "pip freeze > requirements.txt\n",
        "```\n",
        "\n",
        "**Note:** You can name the file anything you want but the industry convention is to name the file **`\"requirements.txt\"`**."
      ]
    },
    {
      "cell_type": "markdown",
      "id": "501323e8",
      "metadata": {
        "id": "501323e8"
      },
      "source": [
        "## Changing the kernel on \"Jupyter Notebook\""
      ]
    },
    {
      "cell_type": "markdown",
      "id": "2a3eedcb",
      "metadata": {
        "id": "2a3eedcb"
      },
      "source": [
        "To add a kernel to jupyter kernel you'll need to follow different procedure according to your virtual environment.\n",
        "\n",
        "### **`Add a conda virtual env as kernel`**\n",
        "Activate the virtual environment you want to add **(Jupyter Notebook should be already installed)** as a kernel for **`**\"Jupyter Notebook\"`** using **`conda activate`.**\n",
        "\n",
        "- **`Install The ipykernel`** <br>\n",
        "```bash\n",
        "conda install -c anaconda ipykernel\n",
        "```\n",
        "\n",
        "- **`Add the virtual environment as kernel`**<br>\n",
        "```bash\n",
        "python -m ipykernel install --user --name=virtual_env_name\n",
        "```\n",
        "\n",
        "### **`Add a Virtualenv environment as kernel`**\n",
        "\n",
        "Activate your virtualenv environment using **`source your-venv/bin/activate`** and make sure `Jupyter Notebook` is installed in that environment. <br>\n",
        "\n",
        "- **`Add the virtual environment as kernel`** <br>\n",
        "```bash\n",
        "ipython kernel install --name \"your_env_name\" --user\n",
        "```\n",
        "\n",
        "\n",
        "### **`Add a venv environment as kernel`**\n",
        "\n",
        "Activate your venv environment using command mentioned in this notebook and make sure `Jupyter Notebook` is installed in that environment. <br>\n",
        "\n",
        "- **`Add the virtual environment as kernel`** <br>\n",
        "```bash\n",
        "python -m ipykernel install --user --name=myenv --display-name \"My Virtual Environment\"\n",
        "```\n",
        "\n",
        "<br>\n",
        "<img src=\"https://github.com/EDGE-Programe/Python-Basics/blob/master/Python_edge_program/logo_images/conda_kernel.png?raw=1\" alt=\"conda\" width=76% height=67% title=\"Change Conda Environment\"> <br>\n",
        "<br>  "
      ]
    },
    {
      "cell_type": "markdown",
      "id": "8335abd4",
      "metadata": {
        "id": "8335abd4"
      },
      "source": [
        "### Remove a Jupyter Notebook Kernel\n",
        "\n",
        "Use the following command to remove a kernel from your **Jupyter Notebook**:\n",
        "```lua\n",
        "jupyter kernelspec remove <kernel-name>\n",
        "```\n",
        "\n",
        "### Change a Kernel Name\n",
        "\n",
        "To change a Kernel name:\n",
        "\n",
        "- 1) Use  **`jupyter kernelspec list`** to see the folder the kernel is located in\n",
        "\n",
        "- 2) In that folder, open up file **`kernel.json`** and edit option **`\"display_name\"`**\n"
      ]
    }
  ],
  "metadata": {
    "kernelspec": {
      "display_name": "edge",
      "language": "python",
      "name": "edge"
    },
    "language_info": {
      "codemirror_mode": {
        "name": "ipython",
        "version": 3
      },
      "file_extension": ".py",
      "mimetype": "text/x-python",
      "name": "python",
      "nbconvert_exporter": "python",
      "pygments_lexer": "ipython3",
      "version": "3.8.16"
    },
    "colab": {
      "provenance": []
    }
  },
  "nbformat": 4,
  "nbformat_minor": 5
}