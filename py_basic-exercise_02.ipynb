{
  "cells": [
    {
      "cell_type": "markdown",
      "metadata": {},
      "source": [
        "##START OF ASSIGNMENT 2 by Shaheer Farrubar Shamsi##"
      ]
    },
    {
      "cell_type": "markdown",
      "metadata": {
        "id": "mEIiKnSedFqP"
      },
      "source": [
        "## Introduction\n",
        "\n",
        "Loops (``for`` and ``while``) allow us to solve a repetitive task. This assignment will allow you to explore this\n",
        "specific feature. Your programs should be written with multiple user-defined functions in the same file. This\n",
        "helps break down the task into smaller and simpler pieces. Functions also make it easier to test individual\n",
        "components, as parts of the program can be tested separately."
      ]
    },
    {
      "cell_type": "markdown",
      "metadata": {
        "id": "rcrqpH3adFqW"
      },
      "source": [
        "### Task 1: while loops\n",
        "There are several small sub-tasks, many of which were solved individually/collectively during class. You\n",
        "should solve each subtask using a while loop.\n",
        "\n",
        "- **Subtask 1:** summation using while loop\n",
        "Prompt the user to enter one integer number. Then your program should find the summation of all the\n",
        "numbers from 1 up to that integer number. For example, if the user enters 3. Your program should print 6\n",
        "as the summation of 1+2+3 is equal to 6.\n",
        "\n",
        "- **Subtask 2:** summation of odd numbers using while loop\n",
        "Prompt the user to enter one integer number. Then your program should find the summation of all the odd\n",
        "numbers from 1 up to that integer number. For example, if the user enters 5. Your program should print\n",
        "6 as the summation of 1+3+5 is equal to 9.\n",
        "\n",
        "**Input & Output Example(Task 1):**\n",
        "```lua\n",
        "Enter an integer number: -2\n",
        "Please enter a positive integer.\n",
        "Enter an integer number: 4\n",
        "The summation of numbers from 1 to 4 is 10\n",
        "```\n",
        "**Input & Output Example(Task 2):**\n",
        "```lua\n",
        "Enter an integer number: 12\n",
        "The summation of odd numbers from 1 to 12 is 36\n",
        "```"
      ]
    },
    {
      "cell_type": "code",
      "execution_count": 18,
      "metadata": {},
      "outputs": [
        {
          "name": "stdout",
          "output_type": "stream",
          "text": [
            "The summation of numbers from 1 to 4 is 10\n"
          ]
        }
      ],
      "source": [
        "#subtask1 Sum of positive integers using while loop\n",
        "numIn = int(input(\"Enter an integer number: \"))\n",
        "num = numIn\n",
        "\n",
        "if num<=0:\n",
        "    print(\"Please enter a positive integer.\")\n",
        "else:\n",
        "    sum = int(0)\n",
        "    while num>0:\n",
        "        sum += num\n",
        "        num-=1\n",
        "        \n",
        "    print(\"The summation of numbers from 1 to \" + str(numIn) + \" is \" + str(sum))\n"
      ]
    },
    {
      "cell_type": "code",
      "execution_count": 34,
      "metadata": {},
      "outputs": [
        {
          "name": "stdout",
          "output_type": "stream",
          "text": [
            "The summation of numbers from 1 to 12 is 36\n"
          ]
        }
      ],
      "source": [
        "#subtask2 Sum of odd integers using while loop\n",
        "numIn = int(input(\"Enter an integer number: \"))\n",
        "sum = 0\n",
        "numOdd = 1\n",
        "if num<=0:\n",
        "    print(\"Please enter a positive integer.\")\n",
        "else:\n",
        "    while numOdd <= numIn :\n",
        "        if(numOdd%2 != 0):\n",
        "            sum += numOdd \n",
        "        numOdd  += 1\n",
        "        \n",
        "    print(\"The summation of numbers from 1 to \" + str(numIn) + \" is \" + str(sum))\n",
        "            "
      ]
    },
    {
      "cell_type": "markdown",
      "metadata": {
        "id": "9PJZUCwddFqY"
      },
      "source": [
        "### Task 2: for loops\n",
        "This task comprises of solving several small sub-tasks. Many of the given tasks were solved individually/collectively during class time. You should solve each task by using either value for loop or index for loop (as appropriate).\n",
        "\n",
        "- **Subtask 1:** summation of multiple of 5s using for loop\n",
        "Prompt the user to enter one integer number. Then your program should compute the summation of all the\n",
        "multiple of ``5s`` from **1** up to the given integer number. For example, if the user enters **15**. Your program\n",
        "should print ``30`` as the summation of ``5+10+15`` is equal to **30**.\n",
        "\n",
        "- **Subtask 2:** finding a number in a list using for loop\n",
        "Initialize a list variable ``my list=[2, 4, 6, 8, 10, 11, 13, 15, 17, 19, 22, 24, 26, 26, 28]``. Now, prompt the user\n",
        "to enter one integer number. If the number entered by the user exists in the list above, **your program should\n",
        "print FOUND; otherwise, it should print NOT FOUND**.\n",
        "\n",
        "- **Subtask 3:** counting the frequency of a number using for loop\n",
        "Initialize a list variable ``new list=[1, 1, 1, 2, 2, 3, 3, 3, 4, 4, 4, 4, 5, 5, 5, 5, 5, 6, 6, 6, 6, 6, 6, 7, 7, 7, 7, 7, 7,7, 8, 8, 8, 8, 8, 8, 8, 8, 9, 9, 9, 9, 9, 9, 9, 9, 9]``. Now, prompt the user to enter one integer number. If the\n",
        "number entered by the user exists in the list above, your program should count how many times that number\n",
        "appears in the given list. After finding the count, your program should print the count. For example, if the\n",
        "user enters ``1``, your program should print the following message ``1 appears 3 times in the list``. Alternatively,\n",
        "if the user enters ``15``, your program should print ``15 appears 0 times in the list``.\n",
        "\n",
        "- **Subtask 4:** finding location of a number in a list using for loop\n",
        "Initialize a list variable ``my list=[2, 4, 6, 8, 10, 11, 13, 15, 17, 19, 22, 24, 26, 28]``. Now, prompt the user to\n",
        "enter one integer number. If the number entered by the user exists in the list above, your program should\n",
        "print its location. Location starts at 0 and ends at 13 for the above list ``(its length is 14)``. For example, if\n",
        "the user enters ``2``, your program should print the following message ``2 appears at location 0``. Alternatively, if\n",
        "the user enters ``15``, your program should print ``15 appears at location 7``.\n",
        "\n",
        "**Input & Output Example:(Sub Task 1)**\n",
        "```lua\n",
        "Enter an integer number: 35\n",
        "The summation of multiples of 5 from 1 to 35 is 140\n",
        "```\n",
        "**Input & Output Example:(Sub Task 2)**\n",
        "```lua\n",
        "Enter an integer number: 7\n",
        "NOT FOUND\n",
        "```\n",
        "**Input & Output Example:(Sub Task 3)**\n",
        "```lua\n",
        "Enter an integer number: 9\n",
        "9 appears 9 time(s) in the list.\n",
        "```\n",
        "**Input & Output Example:(Sub Task 4)**\n",
        "```lua\n",
        "Enter an integer number: 3\n",
        "3 does not appear in the list.\n",
        "-----------------------------\n",
        "Enter an integer number: 13\n",
        "13 appears at location 6.\n",
        "```"
      ]
    },
    {
      "cell_type": "code",
      "execution_count": 33,
      "metadata": {},
      "outputs": [
        {
          "name": "stdout",
          "output_type": "stream",
          "text": [
            "The summation of multiples of 5 from 1 to 35 is 140\n"
          ]
        }
      ],
      "source": [
        "#subtask1 Sum of multiples of 5s using for loop\n",
        "numIn = int(input(\"Enter an integer number: \"))\n",
        "\n",
        "sum = int(0)\n",
        "\n",
        "if numIn>0:\n",
        "    for i in range(0,numIn + 1):\n",
        "        if (i%5 == 0):\n",
        "            sum += i\n",
        "    \n",
        "    print(\"The summation of multiples of 5 from 1 to \" + str(numIn) + \" is \" + str(sum))\n",
        "else:\n",
        "    print(\"Please enter a positive integer.\")\n",
        "    "
      ]
    },
    {
      "cell_type": "code",
      "execution_count": 46,
      "metadata": {},
      "outputs": [
        {
          "name": "stdout",
          "output_type": "stream",
          "text": [
            "NOT FOUND\n"
          ]
        }
      ],
      "source": [
        "#subtask2 Finding a number in a list using for loop and linear search (slow)\n",
        "list=[2, 4, 6, 8, 10, 11, 13, 15, 17, 19, 22, 24, 26, 26, 28]\n",
        "numIn = int(input(\"Enter an integer number: \"))\n",
        "\n",
        "flag = False\n",
        "\n",
        "for i in list:\n",
        "    if (numIn == i):\n",
        "        flag = True\n",
        "\n",
        "if flag:\n",
        "    print(\"FOUND\")\n",
        "else:\n",
        "    print(\"NOT FOUND\")"
      ]
    },
    {
      "cell_type": "code",
      "execution_count": 45,
      "metadata": {},
      "outputs": [
        {
          "name": "stdout",
          "output_type": "stream",
          "text": [
            "NOT FOUND\n"
          ]
        }
      ],
      "source": [
        "#subtask2 Finding a number in a list using while loop and binary search (efficient)\n",
        "list=[2, 4, 6, 8, 10, 11, 13, 15, 17, 19, 22, 24, 26, 26, 28]\n",
        "numIn = int(input(\"Enter an integer number: \"))\n",
        "\n",
        "lBound = int(0)\n",
        "rBound = int(len(list) - 1)\n",
        "\n",
        "flag = False\n",
        "\n",
        "while lBound <= rBound:\n",
        "    mid = int( (lBound + rBound)/2)\n",
        "    if list[mid] == numIn:\n",
        "        flag = True\n",
        "        break\n",
        "    elif list[mid] < numIn:\n",
        "        lBound = mid + 1\n",
        "    else:\n",
        "        rBound = mid - 1\n",
        "\n",
        "if flag:\n",
        "    print(\"FOUND\")\n",
        "else:\n",
        "    print(\"NOT FOUND\")\n"
      ]
    },
    {
      "cell_type": "code",
      "execution_count": 53,
      "metadata": {},
      "outputs": [
        {
          "name": "stdout",
          "output_type": "stream",
          "text": [
            "9 apears 9 time(s) in the list.\n"
          ]
        }
      ],
      "source": [
        "#subtask3 Counting frequency of a number in a sorted list using for loop\n",
        "list=[1, 1, 1, 2, 2, 3, 3, 3, 4, 4, 4, 4, 5, 5, 5, 5, 5, 6, 6, 6, 6, 6, 6, 7, 7, 7, 7, 7, 7,7, 8, 8, 8, 8, 8, 8, 8, 8, 9, 9, 9, 9, 9, 9, 9, 9, 9]\n",
        "numIn = int(input(\"Enter an integer number: \"))\n",
        "count = int(0)\n",
        "\n",
        "for i in list:\n",
        "    if (numIn == i):\n",
        "        count += 1\n",
        "    else:\n",
        "        #resetting to 0 since list is sorted. if it was unsorted we only increment for match with numIn\n",
        "        count = 0\n",
        "print(str(numIn) + \" apears \" + str(count) + \" time(s) in the list.\")\n"
      ]
    },
    {
      "cell_type": "code",
      "execution_count": null,
      "metadata": {},
      "outputs": [],
      "source": [
        "#subtask4 finding location of a number in a list using for loop\n",
        "list=[2, 4, 6, 8, 10, 11, 13, 15, 17, 19, 22, 24, 26, 28]\n",
        "numIn = int(input(\"Enter an integer number: \"))\n",
        "index = int(0)\n",
        "\n",
        "#assuming a value occurs only once in the list as given in the question's list\n",
        "for i in range(0,len(list)):\n",
        "    if (numIn == list[i]):\n",
        "        print(str(numIn) + \" appears at location \" + str(i))\n",
        "        break\n",
        "\n",
        "'''\n",
        "#assuming a value occurs multiple times in the list unlike the question's list\n",
        "for i in range(0,len(list)):\n",
        "    if (numIn == list[i]):\n",
        "        print(str(numIn) + \" appears at location \" + str(i))\n",
        "    else:\n",
        "        continue\n",
        "'''\n"
      ]
    },
    {
      "cell_type": "markdown",
      "metadata": {
        "id": "fW1RcMNNdFqZ"
      },
      "source": [
        "## Task 3: nested loops\n",
        "You should use nested for loop in this task. Your program should build and display three different shapes\n",
        "with increasing complexities. It is recommended that you solve subtask 1 before you attempt the other subtask.\n",
        "\n",
        "- **Subtask 1:** Building a rectangle <br>\n",
        "You should prompt the user to enter the lengths of the two sides of a rectangle. First, prompt the user to\n",
        "enter the height of the rectangle. Then, prompt the user to enter the width of the rectangle. Based on the\n",
        "provided height and width, you should display a rectangular shape which is filled in with the character ``*``\n",
        "as follows:\n",
        "```lua\n",
        "Enter the height of the rectangle: 4\n",
        "Enter the width of the rectangle: 10\n",
        "```\n",
        "**Output:**<br>\n",
        "``**********``<br>\n",
        "``**********``<br>\n",
        "``**********``<br>\n",
        "``**********``<br>\n",
        "As shown above, the rectangle is represented by 4 rows and 10 columns in a grid-like structure, where each\n",
        "grid point is represented by a **``*``**."
      ]
    },
    {
      "cell_type": "code",
      "execution_count": 56,
      "metadata": {},
      "outputs": [
        {
          "name": "stdout",
          "output_type": "stream",
          "text": [
            "**********\n",
            "**********\n",
            "**********\n",
            "**********\n"
          ]
        }
      ],
      "source": [
        "#subtask1 building a rectangle using nested loop (slow)\n",
        "height = int(input(\"Enter the height of the rectangle: \"))\n",
        "width = int(input(\"Enter the width of the rectangle: \"))\n",
        "\n",
        "for i in range(0,height):\n",
        "    for j in range(0,width):\n",
        "        print(\"*\",end=\"\")\n",
        "    print(\"\")\n"
      ]
    },
    {
      "cell_type": "code",
      "execution_count": 65,
      "metadata": {},
      "outputs": [
        {
          "name": "stdout",
          "output_type": "stream",
          "text": [
            "**********\n",
            "**********\n",
            "**********\n",
            "**********\n"
          ]
        }
      ],
      "source": [
        "#subtask1 building a rectangle using a single loop (efficient)\n",
        "height = int(input(\"Enter the height of the rectangle: \"))\n",
        "width = int(input(\"Enter the width of the rectangle: \"))\n",
        "\n",
        "for i in range(height):\n",
        "    print(\"*\" * width)"
      ]
    },
    {
      "cell_type": "markdown",
      "metadata": {
        "id": "yAvyiggGdFqa"
      },
      "source": [
        "- **Subtask 2:** Building a right-facing right-triangle <br>\n",
        "  You should prompt the user to enter the length of a right triangle’s ``adjacent`` and ``opposite``. You can also\n",
        "assume that these ``two sides`` are of ``equal length``. Based on the provided length of its adjacent and opposite,\n",
        "you should display a right-facing triangular shape which is filled in with the character ``*`` as shown below:\n",
        "\n",
        "```lua\n",
        "Enter the length of the (adjacent and opposite) triangle: 10\n",
        "```\n",
        "\n",
        "**Output:**<br>\n",
        "``*``<br>\n",
        "``**``<br>\n",
        "``***``<br>\n",
        "``****``<br>\n",
        "``*****``<br>\n",
        "``******``<br>\n",
        "``*******``<br>\n",
        "``********``<br>\n",
        "``*********``<br>\n",
        "``**********``<br>\n",
        "\n",
        "As shown above, the triangle is represented by ``10 rows`` and ``10 columns`` in a grid-like structure, where each\n",
        "grid point is represented by a ``*``. It is a **right triangle** ``(90◦ angle at the bottom-left corner of the triangle)``."
      ]
    },
    {
      "cell_type": "code",
      "execution_count": 63,
      "metadata": {},
      "outputs": [
        {
          "name": "stdout",
          "output_type": "stream",
          "text": [
            "*\n",
            "**\n",
            "***\n",
            "****\n",
            "*****\n",
            "******\n",
            "*******\n",
            "********\n",
            "*********\n",
            "**********\n"
          ]
        }
      ],
      "source": [
        "#subtask2 building a right-faced triangle using nested loop (slow)\n",
        "length = int(input(\"Enter the length of the (adjacent and opposite) triangle: \"))\n",
        "\n",
        "for i in range(length):\n",
        "    for j in range(i + 1):\n",
        "        print(\"*\", end=\"\")\n",
        "    print()"
      ]
    },
    {
      "cell_type": "code",
      "execution_count": 61,
      "metadata": {},
      "outputs": [
        {
          "name": "stdout",
          "output_type": "stream",
          "text": [
            "*\n",
            "**\n",
            "***\n",
            "****\n",
            "*****\n",
            "******\n",
            "*******\n",
            "********\n",
            "*********\n",
            "**********\n"
          ]
        }
      ],
      "source": [
        "#subtask2 building a right-faced triangle using single loop (efficient)\n",
        "length = int(input(\"Enter the length of the (adjacent and opposite) triangle: \"))\n",
        "\n",
        "for i in range(0,length):\n",
        "    print(\"*\"*(i+1))"
      ]
    },
    {
      "cell_type": "markdown",
      "metadata": {},
      "source": [
        "##END OF ASSIGNMENT 2 by Shaheer Farrubar Shamsi##"
      ]
    }
  ],
  "metadata": {
    "colab": {
      "provenance": []
    },
    "kernelspec": {
      "display_name": "Python 3 (ipykernel)",
      "language": "python",
      "name": "python3"
    },
    "language_info": {
      "codemirror_mode": {
        "name": "ipython",
        "version": 3
      },
      "file_extension": ".py",
      "mimetype": "text/x-python",
      "name": "python",
      "nbconvert_exporter": "python",
      "pygments_lexer": "ipython3",
      "version": "3.11.5"
    }
  },
  "nbformat": 4,
  "nbformat_minor": 0
}
