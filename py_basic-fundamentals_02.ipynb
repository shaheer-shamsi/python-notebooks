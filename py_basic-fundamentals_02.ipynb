{
  "cells": [
    {
      "cell_type": "markdown",
      "id": "039705d4",
      "metadata": {
        "id": "039705d4"
      },
      "source": [
        "<img src=\"https://github.com/EDGE-Programe/Python-Basics/blob/master/Python_edge_program/logo_images/NumPy_logo_2020.png?raw=1\" alt=\"NumPy Logo\" width=70% height=70% title=\"NumPy Logo\">"
      ]
    },
    {
      "cell_type": "markdown",
      "id": "18f56667",
      "metadata": {
        "id": "18f56667"
      },
      "source": [
        "### What is NumPy?"
      ]
    },
    {
      "cell_type": "markdown",
      "id": "6e486404",
      "metadata": {
        "id": "6e486404"
      },
      "source": [
        "NumPy is a powerful Python library for numerical computing. It stands for \"Numerical Python.\" It provides a high-performance multidimensional array object called ndarray, along with a collection of functions for performing array operations, mathematical computations, and data manipulation.<br>"
      ]
    },
    {
      "cell_type": "markdown",
      "id": "20a39d84",
      "metadata": {
        "id": "20a39d84"
      },
      "source": [
        "### Where is NumPy used?"
      ]
    },
    {
      "cell_type": "markdown",
      "id": "c1be0490",
      "metadata": {
        "id": "c1be0490"
      },
      "source": [
        "NumPy is widely used in various domains and applications that involve numerical computing, scientific research, data analysis, and machine learning. Here are some areas where NumPy finds extensive usage:<br>\n",
        "\n",
        "**1. Scientific Research:** NumPy is a fundamental tool in scientific research and computational science. It is used in areas such as physics, chemistry, biology, astronomy, and engineering for data analysis, simulations, and mathematical modeling.<br>\n",
        "\n",
        "**2. Data Analysis:** NumPy is an essential library in data analysis workflows. It provides efficient data structures for handling large datasets and enables fast numerical computations. NumPy is often used in conjunction with Pandas, another popular data manipulation library, to process and analyze structured data.<br>\n",
        "\n",
        "**3.Machine Learning:** NumPy serves as a foundation for many machine learning frameworks and libraries. It provides the data structures and mathematical functions required for performing operations on arrays, such as preprocessing data, feature extraction, matrix operations, and model evaluation.<br>\n",
        "\n",
        "**4.Image and Signal Processing:** NumPy is extensively used in image processing and digital signal processing tasks. It allows for efficient manipulation and analysis of image and audio data through operations like filtering, convolution, Fourier transforms, and image transformations.<br>\n",
        "\n",
        "**5.Simulation and Modeling:** NumPy is used in simulations and modeling applications to generate and manipulate large sets of random data, simulate physical systems, solve differential equations, and analyze the results of simulations.<br>\n",
        "\n",
        "**6.Optimization and Numerical Analysis:** NumPy provides tools and functions for optimization problems, numerical integration, interpolation, solving linear and nonlinear equations, and other numerical analysis tasks.<br>\n",
        "\n",
        "**7.Visualization:** NumPy integrates seamlessly with visualization libraries such as Matplotlib and Seaborn, allowing for the creation of informative and visually appealing plots and charts to visualize data and results.<br>\n",
        "\n",
        "**8.Financial and Econometric Analysis:** NumPy is employed in financial analysis and econometrics for tasks such as time series analysis, risk management, option pricing, and portfolio optimization.<br>\n",
        "\n",
        "**These are just a few examples of the many areas where NumPy is used. Its efficient array operations, extensive mathematical functions, and integration with other scientific computing libraries make it a versatile tool for a wide range of applications involving numerical computations and data analysis.**<br>"
      ]
    },
    {
      "cell_type": "markdown",
      "id": "643c9bf1",
      "metadata": {
        "id": "643c9bf1"
      },
      "source": [
        "### Installing the NumPy Module\n",
        "\n",
        "**You can find latest verison & older of any python package on [PyPi:Python Package Index](https://pypi.org/)**"
      ]
    },
    {
      "cell_type": "code",
      "execution_count": null,
      "id": "9eccde5e",
      "metadata": {
        "id": "9eccde5e",
        "outputId": "33be2cac-6d1f-4d4b-8eec-bd554aa2d267"
      },
      "outputs": [
        {
          "name": "stdout",
          "output_type": "stream",
          "text": [
            "Requirement already satisfied: numpy in /home/rubayet/miniconda3/envs/edge/lib/python3.8/site-packages (1.24.3)\r\n"
          ]
        }
      ],
      "source": [
        "! pip install numpy"
      ]
    },
    {
      "cell_type": "markdown",
      "id": "6698377b",
      "metadata": {
        "id": "6698377b"
      },
      "source": [
        "**In Jupyter notebooks, the exclamation mark `(!)` is used to execute console commands or shell commands directly from within a notebook cell. It allows you to run commands as if you were executing them in a command-line interface or terminal.**<br>"
      ]
    },
    {
      "cell_type": "markdown",
      "id": "021f5240",
      "metadata": {
        "id": "021f5240"
      },
      "source": [
        "### The Basics"
      ]
    },
    {
      "cell_type": "markdown",
      "id": "681e22e6",
      "metadata": {
        "id": "681e22e6"
      },
      "source": [
        "NumPy’s main object is the homogeneous multidimensional array. It is a table of elements (usually numbers), all of the same type, indexed by a tuple of non-negative integers. In NumPy dimensions are called axes.<br>\n",
        "\n",
        "For example, the array for the coordinates of a point in 3D space, `[1, 2, 1]`, has one axis. That axis has 3 elements in it, so we say it has a length of 3. In the example pictured below, the array has 2 axes. The first axis has a length of 2, the second axis has a length of 3.<br>\n",
        "\n",
        "```\n",
        "[[1., 0., 0.],\n",
        " [0., 1., 2.]]\n",
        " ```"
      ]
    },
    {
      "cell_type": "markdown",
      "id": "bc69feb7",
      "metadata": {
        "id": "bc69feb7"
      },
      "source": [
        "NumPy’s array class is called `ndarray`. It is also known by the alias `array`. Note that `numpy.array` is not the same as the Standard Python Library class `array.array`, which only handles one-dimensional arrays and offers less functionality.<br>"
      ]
    },
    {
      "cell_type": "markdown",
      "id": "90654e83",
      "metadata": {
        "id": "90654e83"
      },
      "source": [
        "<img src=\"https://github.com/EDGE-Programe/Python-Basics/blob/master/Python_edge_program/logo_images/numpy_arrays.png?raw=1\" alt=\"NumPy\" width=70% height=70% title=\"NumPy Logo\">"
      ]
    },
    {
      "cell_type": "markdown",
      "id": "efe8f6c5",
      "metadata": {
        "id": "efe8f6c5"
      },
      "source": [
        "### NumPy Array Creation & It's Attributes"
      ]
    },
    {
      "cell_type": "markdown",
      "id": "ed02d25b",
      "metadata": {
        "id": "ed02d25b"
      },
      "source": [
        "There are several ways to create arrays.<br>\n",
        "\n",
        "For example, you can create an `array` from a regular Python **`list`** or **`tuple`** using the array function. The type of the resulting array is deduced from the type of the elements in the sequences.<br>"
      ]
    },
    {
      "cell_type": "code",
      "execution_count": null,
      "id": "8e75760f",
      "metadata": {
        "id": "8e75760f"
      },
      "outputs": [],
      "source": [
        "import numpy as np # Importing the NumPy package"
      ]
    },
    {
      "cell_type": "code",
      "execution_count": null,
      "id": "70b02d64",
      "metadata": {
        "id": "70b02d64",
        "outputId": "577d5158-42e4-4dc4-d1b8-b54383a683f0"
      },
      "outputs": [
        {
          "name": "stdout",
          "output_type": "stream",
          "text": [
            "[2 3 4]\n"
          ]
        }
      ],
      "source": [
        "a = np.array([2, 3, 4])\n",
        "print(a)"
      ]
    },
    {
      "cell_type": "code",
      "execution_count": null,
      "id": "cebc7c7b",
      "metadata": {
        "id": "cebc7c7b",
        "outputId": "4c872e8f-271f-41a2-b5b6-973532badfa6"
      },
      "outputs": [
        {
          "name": "stdout",
          "output_type": "stream",
          "text": [
            "<class 'list'>\n"
          ]
        }
      ],
      "source": [
        "a_list = [2,3,4]\n",
        "print(type(a_list))"
      ]
    },
    {
      "cell_type": "code",
      "execution_count": null,
      "id": "dd6c3962",
      "metadata": {
        "id": "dd6c3962",
        "outputId": "c197dc30-7354-442f-a979-aabdf4cfc112"
      },
      "outputs": [
        {
          "name": "stdout",
          "output_type": "stream",
          "text": [
            "[2 3 4]\n",
            "<class 'numpy.ndarray'>\n"
          ]
        }
      ],
      "source": [
        "a = np.array(a_list)\n",
        "print(a)\n",
        "print(type(a))"
      ]
    },
    {
      "cell_type": "markdown",
      "id": "766bfa17",
      "metadata": {
        "id": "766bfa17"
      },
      "source": [
        "There are some important attributes of an `ndarray` object. They are:<br>\n",
        "\n",
        "**ndarray.ndim**\n",
        " - the number of axes (dimensions) of the array.<br>\n",
        "\n",
        "**ndarray.shape**\n",
        " - the dimensions of the array. This is a tuple of integers indicating the size of the array in each dimension. For a matrix with n rows and m columns, `shape` will be `(n,m)`. The length of the `shape` tuple is therefore the number of axes, `ndim`.<br>\n",
        "\n",
        "**ndarray.size**\n",
        "   - the total number of elements of the array. This is equal to the product of the elements of `shape`.<br>\n",
        "   \n",
        "**ndarray.dtype**\n",
        "   - an object describing the type of the elements in the array. One can create or specify dtype’s using standard Python types. Additionally NumPy provides types of its own. numpy.int32, numpy.int16, and numpy.float64 are some examples.<br>\n",
        "   \n",
        "**ndarray.data**\n",
        "   - the buffer containing the actual elements of the array. Normally, we won’t need to use this attribute because we will access the elements in an array using indexing facilities.<br>\n"
      ]
    },
    {
      "cell_type": "code",
      "execution_count": null,
      "id": "d61f5368",
      "metadata": {
        "id": "d61f5368",
        "outputId": "a9fb20cf-a7e6-4fb5-91b6-6b38cca8a7f6"
      },
      "outputs": [
        {
          "name": "stdout",
          "output_type": "stream",
          "text": [
            "(3,)\n"
          ]
        }
      ],
      "source": [
        "print(a.shape) # shape(rows,columns) of the numpy array 'a'"
      ]
    },
    {
      "cell_type": "code",
      "execution_count": null,
      "id": "15dc7110",
      "metadata": {
        "id": "15dc7110",
        "outputId": "18fda679-3c55-420b-d2e9-4588a244f3c8"
      },
      "outputs": [
        {
          "name": "stdout",
          "output_type": "stream",
          "text": [
            "3\n"
          ]
        }
      ],
      "source": [
        "print(a.size) # number of elements in numpy array 'a'"
      ]
    },
    {
      "cell_type": "code",
      "execution_count": null,
      "id": "97e64dba",
      "metadata": {
        "id": "97e64dba",
        "outputId": "5aca3a59-f4ec-4555-d39c-06eb0a8e71e0"
      },
      "outputs": [
        {
          "name": "stdout",
          "output_type": "stream",
          "text": [
            "1\n"
          ]
        }
      ],
      "source": [
        "print(a.ndim) # number of dimensions in numpy array 'a'"
      ]
    },
    {
      "cell_type": "code",
      "execution_count": null,
      "id": "65da2322",
      "metadata": {
        "id": "65da2322",
        "outputId": "dc5de39a-4149-4eba-8abf-290ee23bcbad"
      },
      "outputs": [
        {
          "name": "stdout",
          "output_type": "stream",
          "text": [
            "int64\n"
          ]
        }
      ],
      "source": [
        "print(a.dtype) # type of data inside the numpy array 'a'"
      ]
    },
    {
      "cell_type": "markdown",
      "id": "fcce7bcb",
      "metadata": {
        "id": "fcce7bcb"
      },
      "source": [
        "**A frequent error consists in calling `array` with multiple arguments, rather than providing a single sequence as an argument.**<br>"
      ]
    },
    {
      "cell_type": "markdown",
      "id": "e9b2ced1",
      "metadata": {
        "id": "e9b2ced1"
      },
      "source": [
        "```python\n",
        "a = np.array(1, 2, 3, 4)    # WRONG\n",
        "```"
      ]
    },
    {
      "cell_type": "code",
      "execution_count": null,
      "id": "3ef6a1fc",
      "metadata": {
        "id": "3ef6a1fc"
      },
      "outputs": [],
      "source": [
        "a = np.array([1, 2, 3, 4])    # RIGHT"
      ]
    },
    {
      "cell_type": "markdown",
      "id": "98e3f798",
      "metadata": {
        "id": "98e3f798"
      },
      "source": [
        "#### NumPy.empty()\n",
        "The **`empty()`** function creates an array without initializing its elements, resulting in random or garbage values."
      ]
    },
    {
      "cell_type": "code",
      "execution_count": null,
      "id": "30f986dd",
      "metadata": {
        "id": "30f986dd",
        "outputId": "293e2ba6-850f-4ef4-eb66-37f2c0307e94"
      },
      "outputs": [
        {
          "name": "stdout",
          "output_type": "stream",
          "text": [
            "[4.9e-324 9.9e-324 1.5e-323 2.0e-323 2.5e-323]\n"
          ]
        }
      ],
      "source": [
        "# Create an empty 1-dimensional array\n",
        "empty_array_1d = np.empty(5)\n",
        "print(empty_array_1d)"
      ]
    },
    {
      "cell_type": "code",
      "execution_count": null,
      "id": "e04f8ff8",
      "metadata": {
        "scrolled": true,
        "id": "e04f8ff8",
        "outputId": "2c31f8bd-33ae-40e8-cf91-d7cd7f5dfe02"
      },
      "outputs": [
        {
          "name": "stdout",
          "output_type": "stream",
          "text": [
            "[[3. 7. 3. 4.]\n",
            " [1. 4. 2. 2.]\n",
            " [7. 2. 4. 9.]]\n"
          ]
        }
      ],
      "source": [
        "# Create an empty 2-dimensional array\n",
        "empty_array_2d = np.empty((3, 4))\n",
        "print(empty_array_2d)"
      ]
    },
    {
      "cell_type": "markdown",
      "id": "bcbd9402",
      "metadata": {
        "id": "bcbd9402"
      },
      "source": [
        "In the above example, **`np.empty(5)`** creates a **`1-dimensional`** array of **`size 5`** with uninitialized elements. Similarly, **`np.empty((3, 4))`** creates a **`2-dimensional`** array with **`3`** rows and **`4`** columns, again with uninitialized elements."
      ]
    },
    {
      "cell_type": "markdown",
      "id": "152c709c",
      "metadata": {
        "id": "152c709c"
      },
      "source": [
        "#### NumPy.full()\n",
        "The **`np.full()`** function creates a new array with a specified shape and fills it with a specified value.\n",
        "\n",
        "**Syntax:**\n",
        "\n",
        "```python\n",
        "np.full(shape, fill_value, dtype)\n",
        "```"
      ]
    },
    {
      "cell_type": "code",
      "execution_count": null,
      "id": "38daa274",
      "metadata": {
        "id": "38daa274",
        "outputId": "bb763fae-14a8-4398-e82f-630f1f7932d9"
      },
      "outputs": [
        {
          "name": "stdout",
          "output_type": "stream",
          "text": [
            "[[5 5 5]\n",
            " [5 5 5]\n",
            " [5 5 5]]\n"
          ]
        }
      ],
      "source": [
        "# Create a 3x3 array filled with 5\n",
        "arr_full = np.full((3, 3), 5)\n",
        "print(arr_full)"
      ]
    },
    {
      "cell_type": "markdown",
      "id": "c0b37bbf",
      "metadata": {
        "id": "c0b37bbf"
      },
      "source": [
        "#### NumPy.zeros()\n",
        "The **`np.zeros()`** function creates a new array with a specified shape and initializes all elements to **`0`**."
      ]
    },
    {
      "cell_type": "code",
      "execution_count": null,
      "id": "161ef096",
      "metadata": {
        "id": "161ef096",
        "outputId": "9f2c9243-fe73-4842-9348-4525d11f0f73"
      },
      "outputs": [
        {
          "name": "stdout",
          "output_type": "stream",
          "text": [
            "[[0. 0. 0. 0.]\n",
            " [0. 0. 0. 0.]]\n"
          ]
        }
      ],
      "source": [
        "# Create a 2x4 array filled with zeros\n",
        "arr_zeros = np.zeros((2, 4))\n",
        "print(arr_zeros)"
      ]
    },
    {
      "cell_type": "markdown",
      "id": "34c46d83",
      "metadata": {
        "id": "34c46d83"
      },
      "source": [
        "#### NumPy.ones()\n",
        "The **`np.ones()`** function creates a new array with a specified shape and initializes all elements to 1.\n",
        "\n",
        "**Syntax:**\n",
        "```python\n",
        "np.ones(shape, dtype, order)\n",
        "```"
      ]
    },
    {
      "cell_type": "code",
      "execution_count": null,
      "id": "344f1860",
      "metadata": {
        "id": "344f1860",
        "outputId": "a6c9c303-ca8e-441e-9f9f-31e4de0ef859"
      },
      "outputs": [
        {
          "name": "stdout",
          "output_type": "stream",
          "text": [
            "[[1 1]\n",
            " [1 1]\n",
            " [1 1]]\n"
          ]
        }
      ],
      "source": [
        "# Create a 3x2 array filled with ones\n",
        "arr_ones = np.ones((3, 2), dtype=\"int64\")\n",
        "print(arr_ones)"
      ]
    },
    {
      "cell_type": "markdown",
      "id": "bba8c27b",
      "metadata": {
        "id": "bba8c27b"
      },
      "source": [
        "#### NumPy.arrange()\n",
        "\n",
        "**`np.arange()`** function is used to create an array with regularly spaced values within a specified range. It returns an array that contains a sequence of numbers based on the start, stop, and step size provided as arguments.<br>\n",
        "\n",
        "The syntax of `np.arange()` is as follows:\n",
        "```python\n",
        "np.arange(start, stop, step)\n",
        "```\n",
        "\n",
        "**start (optional):** The starting value of the sequence. If not specified, the default value is 0.<br>\n",
        "\n",
        "**stop:** The end value of the sequence. The generated sequence will contain values up to, but not including, this value.<br>\n",
        "\n",
        "**step (optional):** The step size or increment between consecutive values. If not specified, the default value is 1.<br>"
      ]
    },
    {
      "cell_type": "code",
      "execution_count": null,
      "id": "1e7fd87e",
      "metadata": {
        "id": "1e7fd87e",
        "outputId": "f82e605c-dfad-4ea2-d8c1-f891f0429011"
      },
      "outputs": [
        {
          "name": "stdout",
          "output_type": "stream",
          "text": [
            "[0 1 2 3 4 5 6 7 8 9]\n"
          ]
        }
      ],
      "source": [
        "# Create an array with values from 0 to 9 (exclusive)\n",
        "arr = np.arange(10)\n",
        "print(arr)"
      ]
    },
    {
      "cell_type": "code",
      "execution_count": null,
      "id": "c6d81d33",
      "metadata": {
        "id": "c6d81d33",
        "outputId": "bf4de202-1b81-4d5e-dc9f-b27a768d8abd"
      },
      "outputs": [
        {
          "name": "stdout",
          "output_type": "stream",
          "text": [
            "[2 4 6 8]\n"
          ]
        }
      ],
      "source": [
        "# Create an array with values from 2 to 10 (exclusive) with a step size of 2\n",
        "arr = np.arange(2, 10, 2)\n",
        "print(arr)"
      ]
    },
    {
      "cell_type": "markdown",
      "id": "cf429f1a",
      "metadata": {
        "id": "cf429f1a"
      },
      "source": [
        "#### NumPy.random.rand()"
      ]
    },
    {
      "cell_type": "markdown",
      "id": "d95da755",
      "metadata": {
        "id": "d95da755"
      },
      "source": [
        "**`np.random.rand()`** is used to generate an array of random values from a uniform distribution over the range **`[0, 1]`**."
      ]
    },
    {
      "cell_type": "code",
      "execution_count": null,
      "id": "6aec2589",
      "metadata": {
        "id": "6aec2589",
        "outputId": "7d511496-59cd-4a11-fe73-e1556af1c1ca"
      },
      "outputs": [
        {
          "name": "stdout",
          "output_type": "stream",
          "text": [
            "0.6744690939944485\n"
          ]
        }
      ],
      "source": [
        "# Generate a random value between 0 and 1\n",
        "random_value = np.random.rand()\n",
        "print(random_value)"
      ]
    },
    {
      "cell_type": "code",
      "execution_count": null,
      "id": "e2c46c16",
      "metadata": {
        "id": "e2c46c16",
        "outputId": "0e18de11-e0ae-4531-b562-8a150eea9e79"
      },
      "outputs": [
        {
          "name": "stdout",
          "output_type": "stream",
          "text": [
            "[0.46271326 0.63715952 0.76690281 0.43970738 0.79850958]\n"
          ]
        }
      ],
      "source": [
        "# Generate a 1D array with 5 random values\n",
        "array_1d = np.random.rand(5)\n",
        "print(array_1d)"
      ]
    },
    {
      "cell_type": "code",
      "execution_count": null,
      "id": "d4aa5394",
      "metadata": {
        "id": "d4aa5394",
        "outputId": "2d5507bc-7e85-4f9b-b1da-55e87f35e7ce"
      },
      "outputs": [
        {
          "name": "stdout",
          "output_type": "stream",
          "text": [
            "[[0.19662599 0.8982319  0.01796172]\n",
            " [0.96994819 0.96037439 0.70342396]]\n"
          ]
        }
      ],
      "source": [
        "# Generate a 2D array with dimensions 2x3\n",
        "array_2d = np.random.rand(2, 3)\n",
        "print(array_2d)"
      ]
    },
    {
      "cell_type": "markdown",
      "id": "7cbb13ee",
      "metadata": {
        "id": "7cbb13ee"
      },
      "source": [
        "### Multi-Dimensional Array Creation"
      ]
    },
    {
      "cell_type": "markdown",
      "id": "a825d52f",
      "metadata": {
        "id": "a825d52f"
      },
      "source": [
        "**`NumPy array`** transforms sequences of sequences into two-dimensional arrays, sequences of sequences of sequences into three-dimensional arrays, and so on.<br>"
      ]
    },
    {
      "cell_type": "code",
      "execution_count": null,
      "id": "71c5fcfb",
      "metadata": {
        "id": "71c5fcfb"
      },
      "outputs": [],
      "source": [
        "b = np.array([(1.5, 2, 3), (4, 5.8, 6)]) # 'b' is a multi-dimensional numpy array"
      ]
    },
    {
      "cell_type": "code",
      "execution_count": null,
      "id": "cf4efdd7",
      "metadata": {
        "id": "cf4efdd7",
        "outputId": "17879f03-29e7-42b3-cb73-45ed5d677603"
      },
      "outputs": [
        {
          "name": "stdout",
          "output_type": "stream",
          "text": [
            "2\n"
          ]
        }
      ],
      "source": [
        "print(b.ndim)"
      ]
    },
    {
      "cell_type": "code",
      "execution_count": null,
      "id": "2136673c",
      "metadata": {
        "id": "2136673c",
        "outputId": "f37ac763-a9c2-4277-86cb-7e9c1dedad8a"
      },
      "outputs": [
        {
          "name": "stdout",
          "output_type": "stream",
          "text": [
            "shape of arrayb (2, 3)\n",
            "size of array b: 6\n"
          ]
        }
      ],
      "source": [
        "print(\"shape of arrayb\",b.shape) # (rows,columns) in numpy array 'b'\n",
        "print(\"size of array b:\",b.size) # elements in numpy array 'b'"
      ]
    },
    {
      "cell_type": "code",
      "execution_count": null,
      "id": "59790c6e",
      "metadata": {
        "id": "59790c6e",
        "outputId": "d7f55fe4-cf35-4d96-cf98-502e024ada6e"
      },
      "outputs": [
        {
          "name": "stdout",
          "output_type": "stream",
          "text": [
            "float64\n"
          ]
        }
      ],
      "source": [
        "print(b.dtype) # numpy array 'b' is in 'float64' datatype"
      ]
    },
    {
      "cell_type": "markdown",
      "id": "3c226c28",
      "metadata": {
        "id": "3c226c28"
      },
      "source": [
        "**This is because array contains elements 1.5 and 5.8 which are floating point numbers;\n",
        "which is why every element is converted into float(as to create a numpy array every\n",
        "element has to be same data-type). So, 2 becomes 2., 3 becomes 3. and so on.<br>**"
      ]
    },
    {
      "cell_type": "code",
      "execution_count": null,
      "id": "ddaabe70",
      "metadata": {
        "id": "ddaabe70",
        "outputId": "648a26fe-d054-4a9a-819f-ae70e1bd1650"
      },
      "outputs": [
        {
          "name": "stdout",
          "output_type": "stream",
          "text": [
            "[[1.5 2.  3. ]\n",
            " [4.  5.8 6. ]]\n"
          ]
        }
      ],
      "source": [
        "print(b)"
      ]
    },
    {
      "cell_type": "markdown",
      "id": "2f7c0c59",
      "metadata": {
        "id": "2f7c0c59"
      },
      "source": [
        "#### The type of the array can also be explicitly specified at creation time:<br>"
      ]
    },
    {
      "cell_type": "code",
      "execution_count": null,
      "id": "c7eeb829",
      "metadata": {
        "id": "c7eeb829"
      },
      "outputs": [],
      "source": [
        "b = np.array([(1.5, 2, 3), (4, 5.8, 6)], dtype='float32')"
      ]
    },
    {
      "cell_type": "code",
      "execution_count": null,
      "id": "7adf6f34",
      "metadata": {
        "id": "7adf6f34",
        "outputId": "553cd130-edab-4f28-e84b-946548ab3ee7"
      },
      "outputs": [
        {
          "name": "stdout",
          "output_type": "stream",
          "text": [
            "[[1.5 2.  3. ]\n",
            " [4.  5.8 6. ]]\n",
            "float32\n"
          ]
        }
      ],
      "source": [
        "print(b)\n",
        "print(b.dtype)"
      ]
    },
    {
      "cell_type": "markdown",
      "id": "0176822f",
      "metadata": {
        "id": "0176822f"
      },
      "source": [
        "#### Reshaping Arrays"
      ]
    },
    {
      "cell_type": "code",
      "execution_count": null,
      "id": "95eabff6",
      "metadata": {
        "id": "95eabff6",
        "outputId": "f9706bbf-a535-4a7b-c14e-df58f418569a"
      },
      "outputs": [
        {
          "name": "stdout",
          "output_type": "stream",
          "text": [
            "(2, 3)\n",
            "(3, 2)\n",
            "[[1.5 2. ]\n",
            " [3.  4. ]\n",
            " [5.8 6. ]]\n"
          ]
        }
      ],
      "source": [
        "print(b.shape)\n",
        "b = b.reshape(3,2) # changing the shape (row,column) of numpy array 'b'\n",
        "print(b.shape)\n",
        "print(b)"
      ]
    },
    {
      "cell_type": "markdown",
      "id": "2d662ded",
      "metadata": {
        "id": "2d662ded"
      },
      "source": [
        "**The total number of elements in the original array must be equal to the total number of elements in the reshaped array. In other words, the sizes must be compatible. For example, an array with 12 elements can be reshaped into a shape of (3, 4) or (6, 2), as both result in an array with 12 elements.<br>**"
      ]
    },
    {
      "cell_type": "code",
      "execution_count": null,
      "id": "0228f3b2",
      "metadata": {
        "id": "0228f3b2",
        "outputId": "e85a7ed0-523e-4b3e-b180-c69589b981c5"
      },
      "outputs": [
        {
          "name": "stdout",
          "output_type": "stream",
          "text": [
            "(6, 1)\n",
            "[[1.5]\n",
            " [2. ]\n",
            " [3. ]\n",
            " [4. ]\n",
            " [5.8]\n",
            " [6. ]]\n"
          ]
        }
      ],
      "source": [
        "b = b.reshape(6,1) # row = 6 (number of rows), column = 1 (number of elements in each row)\n",
        "print(b.shape)\n",
        "print(b)"
      ]
    },
    {
      "cell_type": "markdown",
      "id": "323024d7",
      "metadata": {
        "id": "323024d7"
      },
      "source": [
        "### Basic Arithmetic Operations"
      ]
    },
    {
      "cell_type": "code",
      "execution_count": null,
      "id": "777fa7b5",
      "metadata": {
        "id": "777fa7b5"
      },
      "outputs": [],
      "source": [
        "a = np.array([20, 30, 40, 50])\n",
        "b = np.arange(4)"
      ]
    },
    {
      "cell_type": "code",
      "execution_count": null,
      "id": "ceb6d68c",
      "metadata": {
        "id": "ceb6d68c",
        "outputId": "9430cb53-7e41-49ca-d9ee-78f406236aa8"
      },
      "outputs": [
        {
          "name": "stdout",
          "output_type": "stream",
          "text": [
            "[20 30 40 50]\n",
            "[0 1 2 3]\n"
          ]
        }
      ],
      "source": [
        "print(a)\n",
        "print(b)"
      ]
    },
    {
      "cell_type": "code",
      "execution_count": null,
      "id": "5e3dfa32",
      "metadata": {
        "id": "5e3dfa32",
        "outputId": "cc1c694f-3d22-40db-b260-b9cb7d79ee37"
      },
      "outputs": [
        {
          "name": "stdout",
          "output_type": "stream",
          "text": [
            "[20 31 42 53]\n"
          ]
        }
      ],
      "source": [
        "a = np.array([20, 30, 40, 50])\n",
        "b = np.arange(4)\n",
        "c = a + b # adding each positional elements of array 'a' with elements of array 'a'\n",
        "print(c)"
      ]
    },
    {
      "cell_type": "code",
      "execution_count": null,
      "id": "947db4e5",
      "metadata": {
        "scrolled": true,
        "id": "947db4e5",
        "outputId": "800eca9c-1c76-48ea-d8e3-52f3e4623300"
      },
      "outputs": [
        {
          "name": "stdout",
          "output_type": "stream",
          "text": [
            "[20 29 38 47]\n"
          ]
        }
      ],
      "source": [
        "a = np.array([20, 30, 40, 50])\n",
        "b = np.arange(4)\n",
        "c = a - b # subtracting each positional elements of array 'a' with elements of array 'a'\n",
        "print(c)"
      ]
    },
    {
      "cell_type": "code",
      "execution_count": null,
      "id": "87427590",
      "metadata": {
        "id": "87427590",
        "outputId": "a3fb4db6-5ecb-493e-c780-1a5d9636880f"
      },
      "outputs": [
        {
          "name": "stdout",
          "output_type": "stream",
          "text": [
            "[0 3 6 9]\n"
          ]
        }
      ],
      "source": [
        "b *= 3 # each element of array 'b' will be multiplied by 3\n",
        "print(b)"
      ]
    },
    {
      "cell_type": "markdown",
      "id": "44e9cc3b",
      "metadata": {
        "id": "44e9cc3b"
      },
      "source": [
        "#### Multiplying two numpy arrays\n",
        "In NumPy, you can multiply two arrays element-wise using the * operator. The * operator performs element-wise multiplication when used with NumPy arrays.<br>"
      ]
    },
    {
      "cell_type": "code",
      "execution_count": null,
      "id": "3b83a0fa",
      "metadata": {
        "id": "3b83a0fa",
        "outputId": "06ae12cc-bbfa-4b04-b5aa-06950e6c265b"
      },
      "outputs": [
        {
          "name": "stdout",
          "output_type": "stream",
          "text": [
            "[ 4 10 18]\n"
          ]
        }
      ],
      "source": [
        "# Create two arrays\n",
        "a = np.array([1, 2, 3])\n",
        "b = np.array([4, 5, 6])\n",
        "\n",
        "# Multiply the arrays element-wise\n",
        "result = a * b\n",
        "print(result)"
      ]
    },
    {
      "cell_type": "markdown",
      "id": "5beaff53",
      "metadata": {
        "id": "5beaff53"
      },
      "source": [
        "Note that the arrays being multiplied **`must have compatible shapes`**, meaning they should either have the **`same shape`** or **`broadcastable shapes`** as per the NumPy broadcasting rules. If the arrays have different shapes, NumPy will try to broadcast them to perform element-wise multiplication.<br>"
      ]
    },
    {
      "cell_type": "markdown",
      "id": "06a3cd83",
      "metadata": {
        "id": "06a3cd83"
      },
      "source": [
        "#### Matrix Multiplication\n",
        "If you want to perform matrix multiplication (dot product) instead of element-wise multiplication, you can use the np.dot() function.<br>"
      ]
    },
    {
      "cell_type": "markdown",
      "id": "a386adb8",
      "metadata": {
        "id": "a386adb8"
      },
      "source": [
        "![dot multiplication](logo_images/dot.svg \"Dot Multiplication\")"
      ]
    },
    {
      "cell_type": "code",
      "execution_count": null,
      "id": "1d601d75",
      "metadata": {
        "id": "1d601d75",
        "outputId": "c2260ff6-3c08-4016-b0b3-237b98482b7a"
      },
      "outputs": [
        {
          "name": "stdout",
          "output_type": "stream",
          "text": [
            "[[19 22]\n",
            " [43 50]]\n"
          ]
        }
      ],
      "source": [
        "# Create two arrays\n",
        "a = np.array([[1, 2], [3, 4]])\n",
        "b = np.array([[5, 6], [7, 8]])\n",
        "\n",
        "# Perform matrix multiplication\n",
        "result = np.dot(a, b)\n",
        "print(result)"
      ]
    },
    {
      "cell_type": "markdown",
      "id": "6a3bd315",
      "metadata": {
        "id": "6a3bd315"
      },
      "source": [
        "In order to perform the **`dot`** product **(matrix multiplication)** between two NumPy arrays, the number of columns in the first array must be equal to the number of rows in the second array. This ensures that the shapes of the arrays are compatible for matrix multiplication.<br>\n",
        "\n",
        "Array **`'a'`** of **`shape(m,n)`** can be have a **`dot`** product with another array of shape(n,p).<br>\n",
        "New array will have the **`shape(m,p)`**.<br>"
      ]
    },
    {
      "cell_type": "code",
      "execution_count": null,
      "id": "2554706f",
      "metadata": {
        "scrolled": true,
        "id": "2554706f",
        "outputId": "51154997-4179-4e6f-9f25-2d078ad619e5"
      },
      "outputs": [
        {
          "name": "stdout",
          "output_type": "stream",
          "text": [
            "[[ 58  64]\n",
            " [139 154]]\n",
            "(2, 2)\n"
          ]
        }
      ],
      "source": [
        "# Create two arrays with compatible shapes\n",
        "a = np.array([[1, 2, 3], [4, 5, 6]])  # Shape: (2, 3)\n",
        "b = np.array([[7, 8], [9, 10], [11, 12]])  # Shape: (3, 2)\n",
        "\n",
        "# Perform dot product (matrix multiplication)\n",
        "result = np.dot(a, b)\n",
        "print(result)\n",
        "print(result.shape)"
      ]
    },
    {
      "cell_type": "markdown",
      "id": "f9b5d64b",
      "metadata": {
        "id": "f9b5d64b"
      },
      "source": [
        "### Universal Functions"
      ]
    },
    {
      "cell_type": "markdown",
      "id": "e8ff715f",
      "metadata": {
        "id": "e8ff715f"
      },
      "source": [
        "NumPy provides familiar mathematical functions such as sin, cos, and exp. In NumPy, these are called “universal functions” **`(ufunc)`**. Within NumPy, these functions operate elementwise on an array, producing an array as output.<br>"
      ]
    },
    {
      "cell_type": "markdown",
      "id": "fff4f950",
      "metadata": {
        "id": "fff4f950"
      },
      "source": [
        "**`np.sqrt()`** & **`np.add()`**"
      ]
    },
    {
      "cell_type": "code",
      "execution_count": null,
      "id": "7db63e83",
      "metadata": {
        "id": "7db63e83",
        "outputId": "287241a4-a09a-43bf-bc1b-982e0052bb3f"
      },
      "outputs": [
        {
          "name": "stdout",
          "output_type": "stream",
          "text": [
            "[0 1 2]\n",
            "[0.         1.         1.41421356]\n",
            "[0.         2.         3.41421356]\n"
          ]
        }
      ],
      "source": [
        "a = np.arange(3)\n",
        "print(a)\n",
        "\n",
        "b = np.sqrt(a) # np.sqrt() function applies square root on each element of array 'b'\n",
        "print(b)\n",
        "\n",
        "c = np.add(a,b) # adds each positional elements of array 'a' and array 'b'\n",
        "print(c)"
      ]
    },
    {
      "cell_type": "markdown",
      "id": "37d8f8e3",
      "metadata": {
        "id": "37d8f8e3"
      },
      "source": [
        "**`np.average()`** function is used to calculate the weighted average of elements in an array. It can be used to compute the arithmetic mean, taking into account the weights assigned to each element.<br>"
      ]
    },
    {
      "cell_type": "code",
      "execution_count": null,
      "id": "01d2b2e6",
      "metadata": {
        "id": "01d2b2e6",
        "outputId": "a5febfcf-cb30-452a-f39b-1ff89b4ec259"
      },
      "outputs": [
        {
          "name": "stdout",
          "output_type": "stream",
          "text": [
            "[0 1 2 3 4 5 6 7 8 9]\n",
            "4.5\n"
          ]
        }
      ],
      "source": [
        "a = np.arange(10)\n",
        "b = np.average(a) # calculates average element value in a numpy array\n",
        "print(a)\n",
        "print(b)"
      ]
    },
    {
      "cell_type": "code",
      "execution_count": null,
      "id": "4f0a6776",
      "metadata": {
        "id": "4f0a6776",
        "outputId": "19a43ea8-3206-40e2-c5ad-8541c93af112"
      },
      "outputs": [
        {
          "name": "stdout",
          "output_type": "stream",
          "text": [
            "[[ 7  8]\n",
            " [ 9 10]\n",
            " [11 12]]\n",
            "9.5\n"
          ]
        }
      ],
      "source": [
        "a = np.array([[7, 8], [9, 10], [11, 12]])\n",
        "b = np.average(a)\n",
        "print(a)\n",
        "print(b)"
      ]
    },
    {
      "cell_type": "markdown",
      "id": "808da290",
      "metadata": {
        "id": "808da290"
      },
      "source": [
        "**`np.where()`** function is used to return elements from one of two arrays based on a specified condition. It is a powerful tool for array indexing and conditional operations.<br>"
      ]
    },
    {
      "cell_type": "code",
      "execution_count": null,
      "id": "ef1b708b",
      "metadata": {
        "id": "ef1b708b",
        "outputId": "368ef5bc-8b8f-45b5-dd4e-1f89880275dd"
      },
      "outputs": [
        {
          "name": "stdout",
          "output_type": "stream",
          "text": [
            "[ 1  2 10 10 10]\n"
          ]
        }
      ],
      "source": [
        "# Create an array\n",
        "a = np.array([1, 2, 3, 4, 5])\n",
        "\n",
        "# Create a condition\n",
        "condition = (a < 3)\n",
        "\n",
        "# Use np.where() to select elements based on the condition\n",
        "result = np.where(condition, a, 10)\n",
        "\n",
        "print(result)"
      ]
    },
    {
      "cell_type": "markdown",
      "id": "52896f41",
      "metadata": {
        "id": "52896f41"
      },
      "source": [
        "In this example, we have an array **`a`** with the elements **`[1, 2, 3, 4, 5]`**. We create a condition condition where we check if each element of **`a`** is less than **`3`**. By using **`np.where(condition, a, 10)`**, we select elements from arr where the condition is **`True`**, and elements from the scalar value **`10`** where the condition is **`False`**. The resulting array result contains **`[1, 2, 10, 10, 10]`**.<br>\n",
        "\n",
        "The condition argument in **`np.where()`** specifies the condition that is evaluated element-wise. If the condition is **`True`** for an element, the corresponding element from the **`x`** array is selected; otherwise, the corresponding element from the **`y`** array is selected.<br>\n",
        "\n",
        "The **`x`** and **`y`** arguments can be arrays, scalars, or a combination of both. When arrays are provided, they should have compatible shapes to enable element-wise selection.<br>\n",
        "\n",
        "The **`np.where()`** function is versatile and can be used for a wide range of applications, including data filtering, conditional assignment, and array transformations based on specific conditions."
      ]
    },
    {
      "cell_type": "markdown",
      "id": "5d6707e1",
      "metadata": {
        "id": "5d6707e1"
      },
      "source": [
        "#### More Universal Functions\n",
        "\n",
        "**`all`, `any`, `apply_along_axis`, `argmax`, `argmin`, `argsort`, `average`, `bincount`, `ceil`, `clip`, `conj`, `corrcoef`, `cov`, `cross`, `cumprod`, `cumsum`, `diff`, `dot`, `floor`, `inner`, `invert`, `lexsort`, `max`, `maximum`, `mean`, `median`, `min`, `minimum`, `nonzero`, `outer`, `prod`, `re`, `round`, `sort`, `std`, `sum`, `trace`, `transpose`, `var`, `vdot`, `vectorize`**"
      ]
    },
    {
      "cell_type": "markdown",
      "id": "496ae1c2",
      "metadata": {
        "id": "496ae1c2"
      },
      "source": [
        "### Indexing, Slicing and Iterating\n",
        "One-dimensional arrays can be indexed, sliced and iterated over, much like lists and other Python sequences.<br>"
      ]
    },
    {
      "cell_type": "code",
      "execution_count": null,
      "id": "6ee41b73",
      "metadata": {
        "id": "6ee41b73",
        "outputId": "4076559f-fb73-4a3d-97d6-8e628cc5912c"
      },
      "outputs": [
        {
          "name": "stdout",
          "output_type": "stream",
          "text": [
            "[  0   1   8  27  64 125 216 343 512 729]\n"
          ]
        }
      ],
      "source": [
        "a = np.arange(10)**3\n",
        "print(a)"
      ]
    },
    {
      "cell_type": "code",
      "execution_count": null,
      "id": "7a97f80d",
      "metadata": {
        "id": "7a97f80d",
        "outputId": "d6fbf6fe-1cba-4cae-a43b-3a552f409a30"
      },
      "outputs": [
        {
          "name": "stdout",
          "output_type": "stream",
          "text": [
            "[1000    1 1000   27 1000  125  216  343  512  729]\n"
          ]
        }
      ],
      "source": [
        "a[:6:2] = 1000 # from start to position 6, exclusive, set every 2nd element to 1000\n",
        "print(a)"
      ]
    },
    {
      "cell_type": "code",
      "execution_count": null,
      "id": "839cfad2",
      "metadata": {
        "id": "839cfad2",
        "outputId": "1c07365a-5ec1-43b3-c923-e75dd2c67c62"
      },
      "outputs": [
        {
          "name": "stdout",
          "output_type": "stream",
          "text": [
            "[1000   27 1000]\n"
          ]
        }
      ],
      "source": [
        "b = a[2:5] # b contains elements of array from index 2 to 5\n",
        "print(b)"
      ]
    },
    {
      "cell_type": "code",
      "execution_count": null,
      "id": "1006f4a7",
      "metadata": {
        "id": "1006f4a7",
        "outputId": "8b22d183-9185-491a-939b-f325dba7ef86"
      },
      "outputs": [
        {
          "name": "stdout",
          "output_type": "stream",
          "text": [
            "[ 729  512  343  216  125 1000   27 1000    1 1000]\n"
          ]
        }
      ],
      "source": [
        "c = a[::-1] # 'c' contains every element of 'a' but in resverse order (from -1(last position) to first)\n",
        "print(c)"
      ]
    },
    {
      "cell_type": "markdown",
      "id": "c7864ea3",
      "metadata": {
        "id": "c7864ea3"
      },
      "source": [
        "**Iterating over multidimensional arrays is done with respect to the first axis**"
      ]
    },
    {
      "cell_type": "code",
      "execution_count": null,
      "id": "006e050d",
      "metadata": {
        "id": "006e050d",
        "outputId": "ed43e2c7-7d30-4a71-fe06-766da9bf9c9e"
      },
      "outputs": [
        {
          "name": "stdout",
          "output_type": "stream",
          "text": [
            "[[ 0  1  2]\n",
            " [10 12 13]]\n",
            "[[100 101 102]\n",
            " [110 112 113]]\n"
          ]
        }
      ],
      "source": [
        "c = np.array([[[  0,  1,  2],  # a 3D array (two stacked 2D arrays)\n",
        "               [ 10, 12, 13]],\n",
        "              [[100, 101, 102],\n",
        "               [110, 112, 113]]])\n",
        "\n",
        "for row in c:\n",
        "    print(row)"
      ]
    },
    {
      "cell_type": "markdown",
      "id": "2e09e30a",
      "metadata": {
        "id": "2e09e30a"
      },
      "source": [
        "However, if one wants to perform an operation on each element in the array, one can use the **`.flat`** attribute which is an iterator over all the elements of the array.<br>"
      ]
    },
    {
      "cell_type": "code",
      "execution_count": null,
      "id": "59d12dee",
      "metadata": {
        "id": "59d12dee",
        "outputId": "7fb59c80-3f2c-4c45-c926-07b8f61d9647"
      },
      "outputs": [
        {
          "name": "stdout",
          "output_type": "stream",
          "text": [
            "0\n",
            "1\n",
            "2\n",
            "10\n",
            "12\n",
            "13\n",
            "100\n",
            "101\n",
            "102\n",
            "110\n",
            "112\n",
            "113\n"
          ]
        }
      ],
      "source": [
        "for element in c.flat:\n",
        "    print(element)"
      ]
    },
    {
      "cell_type": "markdown",
      "id": "c4ec6c83",
      "metadata": {
        "id": "c4ec6c83"
      },
      "source": [
        "### Shape Manipulation"
      ]
    },
    {
      "cell_type": "markdown",
      "id": "47c99b90",
      "metadata": {
        "id": "47c99b90"
      },
      "source": [
        "An array has a shape given by the number of elements along each axis.<br>"
      ]
    },
    {
      "cell_type": "code",
      "execution_count": null,
      "id": "57377508",
      "metadata": {
        "id": "57377508",
        "outputId": "14284094-e2ca-4e73-b6dc-9b361d0246be"
      },
      "outputs": [
        {
          "name": "stdout",
          "output_type": "stream",
          "text": [
            "(3, 4)\n"
          ]
        }
      ],
      "source": [
        "a = np.array([[3., 7., 3., 4.],\n",
        "       [1., 4., 2., 2.],\n",
        "       [7., 2., 4., 9.]])\n",
        "\n",
        "print(a.shape)"
      ]
    },
    {
      "cell_type": "markdown",
      "id": "a1f1a731",
      "metadata": {
        "id": "a1f1a731"
      },
      "source": [
        "The shape of an array can be changed with various commands. Note that the following three commands all return a modified array, but do not change the original array unless you assing the result to original array.<br>"
      ]
    },
    {
      "cell_type": "code",
      "execution_count": null,
      "id": "b2628b61",
      "metadata": {
        "id": "b2628b61",
        "outputId": "7f7943a9-c353-4b42-e241-d2db61147f4c"
      },
      "outputs": [
        {
          "name": "stdout",
          "output_type": "stream",
          "text": [
            "[3. 7. 3. 4. 1. 4. 2. 2. 7. 2. 4. 9.]\n"
          ]
        }
      ],
      "source": [
        "print(a.flatten()) # returns the array 'a', but flattened"
      ]
    },
    {
      "cell_type": "code",
      "execution_count": null,
      "id": "5e9f88c7",
      "metadata": {
        "id": "5e9f88c7",
        "outputId": "c65b7a4e-274d-411b-ee8b-4ae6c106cda3"
      },
      "outputs": [
        {
          "name": "stdout",
          "output_type": "stream",
          "text": [
            "[[3. 7.]\n",
            " [3. 4.]\n",
            " [1. 4.]\n",
            " [2. 2.]\n",
            " [7. 2.]\n",
            " [4. 9.]]\n"
          ]
        }
      ],
      "source": [
        "print(a.reshape(6, 2)) # returns the array with a modified shape"
      ]
    },
    {
      "cell_type": "code",
      "execution_count": null,
      "id": "b7f77f19",
      "metadata": {
        "id": "b7f77f19",
        "outputId": "83d35aa6-73d2-4ac4-f788-be33e23ca58e"
      },
      "outputs": [
        {
          "name": "stdout",
          "output_type": "stream",
          "text": [
            "[[3. 1. 7.]\n",
            " [7. 4. 2.]\n",
            " [3. 2. 4.]\n",
            " [4. 2. 9.]]\n",
            "[[3. 1. 7.]\n",
            " [7. 4. 2.]\n",
            " [3. 2. 4.]\n",
            " [4. 2. 9.]]\n"
          ]
        }
      ],
      "source": [
        "print(a.T) # returns the tranpose of the array 'a'\n",
        "\n",
        "# or\n",
        "\n",
        "print(np.transpose(a)) # returns the tranpose of the array 'a'"
      ]
    },
    {
      "cell_type": "markdown",
      "id": "6364a35e",
      "metadata": {
        "id": "6364a35e"
      },
      "source": [
        "<img src=\"https://github.com/EDGE-Programe/Python-Basics/blob/master/Python_edge_program/logo_images/transpose.png?raw=1\" alt=\"Numpy Transpose\" width=41% height=41% title=\"Transpose a NumPy Array\">"
      ]
    },
    {
      "cell_type": "code",
      "execution_count": null,
      "id": "6ab0b180",
      "metadata": {
        "scrolled": true,
        "id": "6ab0b180",
        "outputId": "de1ce6b4-59f8-41b8-fcd9-65326aa917cc"
      },
      "outputs": [
        {
          "name": "stdout",
          "output_type": "stream",
          "text": [
            "(3, 4)\n"
          ]
        }
      ],
      "source": [
        "print(a.shape) # current shape of array 'a'"
      ]
    },
    {
      "cell_type": "markdown",
      "id": "441cac53",
      "metadata": {
        "id": "441cac53"
      },
      "source": [
        "**Note:** The **`reshape`** function returns its argument with a modified shape, whereas the **`ndarray.resize`** method modifies the array itself."
      ]
    },
    {
      "cell_type": "markdown",
      "id": "a1cde554",
      "metadata": {
        "id": "a1cde554"
      },
      "source": [
        "#### NumPy.resize()"
      ]
    },
    {
      "cell_type": "code",
      "execution_count": null,
      "id": "340a3319",
      "metadata": {
        "id": "340a3319"
      },
      "outputs": [],
      "source": [
        "a = np.array([[3., 7., 3., 4.],\n",
        "           [1., 4., 2., 2.],\n",
        "           [7., 2., 4., 9.]])\n",
        "\n",
        "a.resize((2, 6)) # resizing the array 'a'"
      ]
    },
    {
      "cell_type": "code",
      "execution_count": null,
      "id": "101e1990",
      "metadata": {
        "scrolled": true,
        "id": "101e1990",
        "outputId": "cd5d1090-a786-4dd4-8ff5-ae401a9cec94"
      },
      "outputs": [
        {
          "name": "stdout",
          "output_type": "stream",
          "text": [
            "[[3. 7. 3. 4. 1. 4.]\n",
            " [2. 2. 7. 2. 4. 9.]]\n",
            "(2, 6)\n"
          ]
        }
      ],
      "source": [
        "print(a)\n",
        "print(a.shape)"
      ]
    },
    {
      "cell_type": "markdown",
      "id": "41cdddb4",
      "metadata": {
        "id": "41cdddb4"
      },
      "source": [
        "#### NumPy.reshape()"
      ]
    },
    {
      "cell_type": "code",
      "execution_count": null,
      "id": "f36adc9d",
      "metadata": {
        "id": "f36adc9d",
        "outputId": "91b80a25-d4cc-4b64-dc0c-b26f2f4d198c"
      },
      "outputs": [
        {
          "name": "stdout",
          "output_type": "stream",
          "text": [
            "(3, 4) Shape of Array a\n"
          ]
        },
        {
          "data": {
            "text/plain": [
              "array([[3., 7., 3., 4., 1., 4.],\n",
              "       [2., 2., 7., 2., 4., 9.]])"
            ]
          },
          "execution_count": 143,
          "metadata": {},
          "output_type": "execute_result"
        }
      ],
      "source": [
        "a = np.array([[3., 7., 3., 4.],\n",
        "           [1., 4., 2., 2.],\n",
        "           [7., 2., 4., 9.]])\n",
        "\n",
        "print(a.shape, \"Shape of Array a\")\n",
        "a.reshape((2, 6))"
      ]
    },
    {
      "cell_type": "code",
      "execution_count": null,
      "id": "f6b9d061",
      "metadata": {
        "id": "f6b9d061",
        "outputId": "61a411f2-07a6-4677-f9da-dd9cabac0f9d"
      },
      "outputs": [
        {
          "name": "stdout",
          "output_type": "stream",
          "text": [
            "(3, 4)\n"
          ]
        }
      ],
      "source": [
        "print(a.shape) # original shape remains the same"
      ]
    },
    {
      "cell_type": "markdown",
      "id": "5d2b1d29",
      "metadata": {
        "id": "5d2b1d29"
      },
      "source": [
        "### NumPy.expand_dims()"
      ]
    },
    {
      "cell_type": "markdown",
      "id": "c66868bc",
      "metadata": {
        "id": "c66868bc"
      },
      "source": [
        "In NumPy, the **`expand_dims()`** function is used to expand the dimensions of an array. It is used to increase the dimensionality of an existing array by inserting a new axis at a specified position.\n",
        "\n",
        "The syntax of the **`expand_dims()`** function is as follows:\n",
        "```python\n",
        "numpy.expand_dims(arr, axis)\n",
        "```\n",
        "In NumPy, axes are **`zero-indexed`**, meaning the first axis is referred to as **`axis 0`**, the **`second axis`** is **`axis 1`**, and so on. The **`negative indexing`** allows you to refer to axes from the **`end`**, where **`-1`** represents the **`last`** axis, **`-2`** represents the **`second-to-last axis`**, and so forth."
      ]
    },
    {
      "cell_type": "code",
      "execution_count": null,
      "id": "cd898a07",
      "metadata": {
        "id": "cd898a07",
        "outputId": "f3b3d6ff-bdf0-4f6d-d68c-eb5f16ac0b13"
      },
      "outputs": [
        {
          "name": "stdout",
          "output_type": "stream",
          "text": [
            "(3,)\n"
          ]
        }
      ],
      "source": [
        "arr = np.array([1, 2, 3])\n",
        "print(arr.shape)"
      ]
    },
    {
      "cell_type": "code",
      "execution_count": null,
      "id": "71ddd8bd",
      "metadata": {
        "id": "71ddd8bd",
        "outputId": "b8947e38-5af0-42ee-9874-a404445e63c9"
      },
      "outputs": [
        {
          "name": "stdout",
          "output_type": "stream",
          "text": [
            "(1, 3)\n"
          ]
        }
      ],
      "source": [
        "# Expanding dimensions along axis 0\n",
        "expanded_arr = np.expand_dims(arr, axis=0)\n",
        "print(expanded_arr.shape)"
      ]
    },
    {
      "cell_type": "code",
      "execution_count": null,
      "id": "e7ecd8cf",
      "metadata": {
        "id": "e7ecd8cf",
        "outputId": "be05f16c-cbe3-421a-c02f-32851d9e59a8"
      },
      "outputs": [
        {
          "name": "stdout",
          "output_type": "stream",
          "text": [
            "(3, 1)\n"
          ]
        }
      ],
      "source": [
        "# Expanding dimensions along axis 1\n",
        "expanded_arr = np.expand_dims(arr, axis=1)\n",
        "print(expanded_arr.shape)"
      ]
    },
    {
      "cell_type": "markdown",
      "id": "7d152fc5",
      "metadata": {
        "id": "7d152fc5"
      },
      "source": [
        "In this example, we have an **`input`** array arr of **`shape (3,)`** containing the numbers **`1, 2, and 3`**. We use **`expand_dims()`** to expand the dimensions along **axis=0** and **axis=1**. The resulting arrays have shapes **`(1, 3)`** and **`(3, 1)`**, respectively."
      ]
    },
    {
      "cell_type": "code",
      "execution_count": null,
      "id": "f8b41747",
      "metadata": {
        "id": "f8b41747",
        "outputId": "731377ae-bf5e-46a4-a546-5041e0da4270"
      },
      "outputs": [
        {
          "name": "stdout",
          "output_type": "stream",
          "text": [
            "(3, 1)\n"
          ]
        }
      ],
      "source": [
        "# Expanding dimensions along axis -1\n",
        "expanded_arr = np.expand_dims(arr, axis=-1)\n",
        "print(expanded_arr.shape)"
      ]
    },
    {
      "cell_type": "markdown",
      "id": "0b53ab24",
      "metadata": {
        "id": "0b53ab24"
      },
      "source": [
        "The reason **`axis 1`** and **`-1`** are the same is because **`axis -1`** refers to the last axis, and when you have a **`2-dimensional`** array, the second axis is indeed the last axis. Therefore, **`axis 1`** and **`-1`** point to the same axis in the context of a **`2-dimensional`** array."
      ]
    },
    {
      "cell_type": "markdown",
      "id": "f999a8be",
      "metadata": {
        "id": "f999a8be"
      },
      "source": [
        "### NumPy.squeeze()\n",
        "np.squeeze is a NumPy function that removes single-dimensional entries from the shape of an array. It is used to reduce the dimensionality of an array by collapsing any axes with a **`size of 1`**.\n",
        "\n",
        "Here's the syntax of **np.squeeze():**\n",
        "\n",
        "```python\n",
        "numpy.squeeze(a, axis=None)\n",
        "```\n",
        "\n",
        "**`Parameters:`**\n",
        "- **a:** The input array.\n",
        "- **axis** (optional): An integer or tuple of integers specifying the axes to squeeze. Default is None, which squeezes all single-dimensional entries.\n",
        "\n",
        "The **`np.squeeze`** function returns a new array with the same data as the input array but with dimensions of **`size 1 removed`**."
      ]
    },
    {
      "cell_type": "code",
      "execution_count": null,
      "id": "242c24ca",
      "metadata": {
        "id": "242c24ca",
        "outputId": "8a1572a2-f7dc-4a80-e33b-74138c67d6cd"
      },
      "outputs": [
        {
          "name": "stdout",
          "output_type": "stream",
          "text": [
            "Original Array:\n",
            "[[5]]\n",
            "Original Shape: (1, 1)\n"
          ]
        }
      ],
      "source": [
        "# Create a 1D array with a single dimension of size 1\n",
        "a = np.array([[5]])\n",
        "print(\"Original Array:\")\n",
        "print(a)\n",
        "print(\"Original Shape:\", a.shape)"
      ]
    },
    {
      "cell_type": "code",
      "execution_count": null,
      "id": "77f92150",
      "metadata": {
        "id": "77f92150",
        "outputId": "9b872dac-a645-4d8d-9835-08bfe163e674"
      },
      "outputs": [
        {
          "name": "stdout",
          "output_type": "stream",
          "text": [
            "Squeezed Array:\n",
            "5\n",
            "Squeezed Shape: ()\n"
          ]
        }
      ],
      "source": [
        "# Squeeze the array to remove the single dimension\n",
        "b = np.squeeze(a)\n",
        "print(\"Squeezed Array:\")\n",
        "print(b)\n",
        "print(\"Squeezed Shape:\", b.shape)"
      ]
    },
    {
      "cell_type": "code",
      "execution_count": null,
      "id": "35fae6bb",
      "metadata": {
        "id": "35fae6bb",
        "outputId": "d15e674e-7d1c-4992-a0b8-a31f6a095e5b"
      },
      "outputs": [
        {
          "name": "stdout",
          "output_type": "stream",
          "text": [
            "Squeezed Array:\n",
            "[5]\n",
            "Squeezed Shape: (1,)\n"
          ]
        }
      ],
      "source": [
        "# Squeeze the array in axis=0 to remove the single dimension in first axis\n",
        "b = np.squeeze(a, axis=0)\n",
        "print(\"Squeezed Array:\")\n",
        "print(b)\n",
        "print(\"Squeezed Shape:\", b.shape)"
      ]
    },
    {
      "cell_type": "markdown",
      "id": "3254423a",
      "metadata": {
        "id": "3254423a"
      },
      "source": [
        "### Stacking together different arrays\n",
        "Several arrays can be stacked together along different axes.<br>"
      ]
    },
    {
      "cell_type": "code",
      "execution_count": null,
      "id": "0f33c496",
      "metadata": {
        "id": "0f33c496"
      },
      "outputs": [],
      "source": [
        "a = np.array([[9., 7.],\n",
        "              [5., 2.]])\n",
        "\n",
        "b = np.array([[1., 9.],\n",
        "              [5., 1.]])"
      ]
    },
    {
      "cell_type": "code",
      "execution_count": null,
      "id": "5b53fb0d",
      "metadata": {
        "id": "5b53fb0d",
        "outputId": "73a53e2b-ed25-49b4-a8bc-8c30ef0e49a9"
      },
      "outputs": [
        {
          "name": "stdout",
          "output_type": "stream",
          "text": [
            "[[9. 7.]\n",
            " [5. 2.]\n",
            " [1. 9.]\n",
            " [5. 1.]]\n"
          ]
        }
      ],
      "source": [
        "c = np.vstack((a,b)) # vertically stacks array 'a' and array 'b'\n",
        "\n",
        "print(c)"
      ]
    },
    {
      "cell_type": "code",
      "execution_count": null,
      "id": "bdbb1fbb",
      "metadata": {
        "id": "bdbb1fbb",
        "outputId": "452ae935-09ea-4f16-d3e9-f57f36e8b346"
      },
      "outputs": [
        {
          "name": "stdout",
          "output_type": "stream",
          "text": [
            "[[9. 7. 1. 9.]\n",
            " [5. 2. 5. 1.]]\n"
          ]
        }
      ],
      "source": [
        "d = np.hstack((a,b)) # horizontally stacks array 'a' and array 'b'\n",
        "\n",
        "print(d)"
      ]
    },
    {
      "cell_type": "markdown",
      "id": "56c1a35f",
      "metadata": {
        "id": "56c1a35f"
      },
      "source": [
        "The function **`column_stack`** stacks **`1D`** arrays as columns into a **`2D`** array. It is equivalent to **`hstack`** only for **`2D arrays`**.<br>"
      ]
    },
    {
      "cell_type": "code",
      "execution_count": null,
      "id": "d4af1a40",
      "metadata": {
        "id": "d4af1a40"
      },
      "outputs": [],
      "source": [
        "a = np.array([4., 2.])\n",
        "\n",
        "b = np.array([3., 8.])\n",
        "\n",
        "c = np.column_stack((a, b))\n",
        "\n",
        "d = np.hstack((a, b))"
      ]
    },
    {
      "cell_type": "code",
      "execution_count": null,
      "id": "16a156d0",
      "metadata": {
        "id": "16a156d0",
        "outputId": "e4e12648-84f3-41c6-9193-12ae64c95ff6"
      },
      "outputs": [
        {
          "name": "stdout",
          "output_type": "stream",
          "text": [
            "[[4. 3.]\n",
            " [2. 8.]]\n",
            "Dimension: 2\n"
          ]
        }
      ],
      "source": [
        "print(c)\n",
        "print(\"Dimension:\",c.ndim)"
      ]
    },
    {
      "cell_type": "code",
      "execution_count": null,
      "id": "e457f345",
      "metadata": {
        "scrolled": true,
        "id": "e457f345",
        "outputId": "2691ea9d-34d1-42b5-9476-2adcd993bf86"
      },
      "outputs": [
        {
          "name": "stdout",
          "output_type": "stream",
          "text": [
            "[4. 2. 3. 8.]\n",
            "Dimension: 1\n"
          ]
        }
      ],
      "source": [
        "print(d)\n",
        "print(\"Dimension:\",d.ndim)"
      ]
    },
    {
      "cell_type": "markdown",
      "id": "47b06997",
      "metadata": {
        "id": "47b06997"
      },
      "source": [
        "On the other hand, the function **`row_stack`** is equivalent to **`vstack`** for any input arrays. In fact, **`row_stack`** is an **`alias`** for **`vstack`.** <br>"
      ]
    },
    {
      "cell_type": "markdown",
      "id": "6282d322",
      "metadata": {
        "id": "6282d322"
      },
      "source": [
        "### NumPy Array Vs Tensor"
      ]
    },
    {
      "cell_type": "markdown",
      "id": "7eb3555e",
      "metadata": {
        "id": "7eb3555e"
      },
      "source": [
        "NumPy arrays are a general-purpose multidimensional array structure used in numerical computing, while tensors are higher-dimensional arrays often used in deep learning frameworks. Tensors provide additional functionalities specifically tailored for deep learning tasks, such as automatic differentiation and computation graphs. NumPy arrays serve as a foundational data structure underlying many numerical computing operations, including those in deep learning libraries.\n",
        "<img src=\"https://github.com/EDGE-Programe/Python-Basics/blob/master/Python_edge_program/logo_images/tensor.png?raw=1\" alt=\"Tensor\" width=67% height=67% title=\"Tensor Object\">"
      ]
    },
    {
      "cell_type": "markdown",
      "id": "0c669fcc",
      "metadata": {
        "id": "0c669fcc"
      },
      "source": [
        "### Questions on NumPy Array\n",
        "\n",
        "   - How to create an empty and a full NumPy array?\n",
        "   - Create a Numpy array filled with all zeros\n",
        "   - Create a Numpy array filled with all ones\n",
        "   - Check whether a Numpy array contains a specified row\n",
        "   - How to Remove rows in Numpy array that contains non-numeric values?\n",
        "   - Find the number of occurrences of a sequence in a NumPy array\n",
        "   - Find the most frequent value in a NumPy array\n",
        "   - Combining a one and a two-dimensional NumPy Array\n",
        "   - How to build an array of all combinations of two NumPy arrays?\n",
        "   - How to compare two NumPy arrays?\n",
        "   - How to check whether specified values are present in NumPy array?\n",
        "   - How to get all 2D diagonals of a 3D NumPy array?\n",
        "   - Flatten a Matrix in Python using NumPy\n",
        "   - Flatten a 2d numpy array into 1d array\n",
        "   - Move axes of an array to new positions\n",
        "   - Interchange two axes of an array\n",
        "   - Counts the number of non-zero values in the array\n",
        "   - Count the number of elements along a given axis\n",
        "   - Change data type of given numpy array\n",
        "   - Reverse a numpy array"
      ]
    },
    {
      "cell_type": "code",
      "execution_count": null,
      "id": "2feca885",
      "metadata": {
        "id": "2feca885"
      },
      "outputs": [],
      "source": []
    }
  ],
  "metadata": {
    "kernelspec": {
      "display_name": "Python 3 (ipykernel)",
      "language": "python",
      "name": "python3"
    },
    "language_info": {
      "codemirror_mode": {
        "name": "ipython",
        "version": 3
      },
      "file_extension": ".py",
      "mimetype": "text/x-python",
      "name": "python",
      "nbconvert_exporter": "python",
      "pygments_lexer": "ipython3",
      "version": "3.8.16"
    },
    "colab": {
      "provenance": []
    }
  },
  "nbformat": 4,
  "nbformat_minor": 5
}